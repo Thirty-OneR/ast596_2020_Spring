{
 "cells": [
  {
   "cell_type": "markdown",
   "metadata": {},
   "source": [
    "# ASTR596, FDS: Homework set 3 - Moving from MLE and Frequentism to evaluating the Posterior distribution and Bayesian Statistics\n",
    "\n",
    "\n",
    "\n",
    "## Problem 1\n",
    "\n",
    "Last week you showed that Bayesian and Frequentist approaches are often equivalent for simple problems (after all you implicitly had a prior in the form of a grid). \n",
    "\n",
    "But it is also true that they can diverge greatly. In practice, this divergence makes itself most clear in two different situations:\n",
    "\n",
    "1. The handling of \"nuisance parameters\"\n",
    "2. The subtle (and often overlooked) difference between frequentist confidence intervals and Bayesian credible intervals\n",
    "\n",
    "Here, we focus on the first point: the difference between frequentist and Bayesian treatment of nuisance parameters.\n",
    "\n",
    "\n",
    "## What is a Nuisance Parameter?\n",
    "\n",
    "***A nuisance parameter is any quantity whose value is not relevant to the goal of an analysis, but is nevertheless required to determine some quantity of interest***.\n",
    "\n",
    "For example, last week, in problem 3, we estimated both the mean $C$ and shape $\\sigma_\\text{source}$ for some spherical cow galaxy. Now the shape might be important, but in homework 1, you only needed the brightness of the sources where you plotted up $r$ vs $g-i$ for galaxies (you needed the shape to separate stars from galaxies in the form of MEAN_OBJECT_TYPE, but that's it).\n",
    "\n",
    "As far as you were concerned in homework 1, the shape was a **nuisance** parameter.\n",
    "\n",
    "\n",
    "## A Classic Problem:\n",
    "\n",
    "\n",
    "We'll start with an example of nuisance parameters that, in one form or another, dates all the way back to the posthumous [1763 paper](http://www.stat.ucla.edu/history/essay.pdf) written by Thomas Bayes himself. The particular version of this problem we'll study is borrowed from [Eddy 2004](ftp://selab.janelia.org/pub/publications/Eddy-ATG3/Eddy-ATG3-reprint.pdf)."
   ]
  },
  {
   "cell_type": "markdown",
   "metadata": {},
   "source": [
    "The setting is a rather contrived game in which Alice and Bob bet on the outcome of a process they can't directly observe:\n",
    "\n",
    "> Alice and Bob enter a room. Behind a curtain there is a billiard table, which they cannot see, but their friend Carol can. Carol rolls a ball down the table, and marks where it lands. Once this mark is in place, Carol begins rolling new balls down the table. If the ball lands to the left of the mark, Alice gets a point; if it lands to the right of the mark, Bob gets a point.  We can assume for the sake of example that Carol's rolls are unbiased: that is, the balls have an equal chance of ending up anywhere on the table.  **The first person to reach six points wins the game.**\n",
    "\n",
    "Here ***the location of the mark (determined by the first roll) can be considered a nuisance parameter***.\n",
    "\n",
    "It is unknown, and not of immediate interest, but it clearly must be accounted for when predicting the outcome of subsequent rolls. If the first roll settles far to the right, then subsequent rolls will favor Alice. If it settles far to the left, Bob will be favored instead."
   ]
  },
  {
   "cell_type": "markdown",
   "metadata": {},
   "source": [
    "Given this setup, here is the question we ask of ourselves:\n",
    "\n",
    "> In a particular game, after eight rolls, Alice has five points and Bob has three points. What is the probability that Bob will go on to win the game?\n",
    "\n",
    "Intuitively, you probably realize that because Alice received five of the eight points, the marker placement likely favors her. And given this, it's more likely that the next roll will go her way as well. \n",
    "\n",
    "And she has three opportunities to get a favorable roll before Bob can win; she seems to have clinched it.  But, **quantitatively**, what is the probability that Bob will squeak-out a win?\n",
    "\n",
    "\n",
    "Someone following a classical frequentist approach might reason as follows:\n",
    "\n",
    "To determine the result, we need an intermediate estimate of where the marker sits. We'll quantify this marker placement as a probability $p$ that any given roll lands in Alice's favor.  Because five balls out of eight fell on Alice's side of the marker, we can quickly show that the maximum likelihood estimate of $p$ is given by:\n",
    "\n",
    "$$\n",
    "\\hat{p} = 5/8\n",
    "$$\n",
    "\n",
    "(This result follows in a straightforward manner from the [binomial likelihood](http://en.wikipedia.org/wiki/Binomial_distribution)). \n",
    "\n",
    "# 1.1 Under the assumptions of maximum likelihood, what is the probability of Bob winning the game - i.e. getting six points, and what are the odds \n",
    "# (i.e. $(1 - p_\\text{Bob wins})/p_\\text{Bob wins}$)"
   ]
  },
  {
   "cell_type": "markdown",
   "metadata": {},
   "source": [
    "# A1: Bob needs 3 wins from 3 games. Bob has a (3/8) record of winning so far, so we'll assert that is the likelihood of him winning a game.\n",
    "\n",
    "## $$P(\\mathrm{Bob\\; wins}) = \\left(\\frac{3}{8} \\right)^3 \\sim 0.0527$$\n",
    "\n",
    "\n",
    "## $$ \\mathrm{Odds \\; Bob\\; wins} =  \\frac{(1-(3/8)^3)}{(3/8)^3} \\sim 18:1 $$\n"
   ]
  },
  {
   "cell_type": "markdown",
   "metadata": {},
   "source": [
    "We can also approach this problem from a Bayesian standpoint. This is slightly more involved, and requires us to first define some notation.\n",
    "\n",
    "We'll consider the following random variables:\n",
    "\n",
    "- $B$ = Bob Wins\n",
    "- $D$ = observed data, i.e. $D = (n_A, n_B) = (5, 3)$\n",
    "- $p$ = unknown probability that a ball lands on Alice's side during the current game\n",
    "\n",
    "We want to compute $P(B~|~D)$; that is, the probability that Bob wins given our observation that Alice currently has five points to Bob's three."
   ]
  },
  {
   "cell_type": "markdown",
   "metadata": {},
   "source": [
    "The general Bayesian method of treating nuisance parameters is ***marginalization***, or integrating the joint probability over the entire range of the nuisance parameter. In this case, that means that we will first calculate the joint distribution\n",
    "$$\n",
    "P(B,p~|~D)\n",
    "$$\n",
    "and then marginalize over $p$ using the following identity:\n",
    "$$\n",
    "P(B~|~D) \\equiv \\int_{-\\infty}^\\infty P(B,p~|~D) {\\mathrm d}p\n",
    "$$\n",
    "This identity follows from the definition of conditional probability, and the law of total probability: that is, it is a fundamental consequence of probability axioms and will always be true. Even a frequentist would recognize this; they would simply disagree with our interpretation of $P(p)$ as being a measure of uncertainty of our own knowledge.\n",
    "\n",
    "To compute this result, we will manipulate the above expression for $P(B~|~D)$ until we can express it in terms of other quantities that we can compute.\n",
    "\n",
    "We'll start by applying the following definition of [conditional probability](http://en.wikipedia.org/wiki/Conditional_probability#Definition) to expand the term $P(B,p~|~D)$:\n",
    "\n",
    "$$\n",
    "P(B~|~D) = \\int P(B~|~p, D) P(p~|~D) dp\n",
    "$$\n",
    "\n",
    "Next we use [Bayes' rule](http://en.wikipedia.org/wiki/Bayes%27_theorem) to rewrite $P(p~|~D)$:\n",
    "\n",
    "$$\n",
    "P(B~|~D) = \\int P(B~|~p, D) \\frac{P(D~|~p)P(p)}{P(D)} dp\n",
    "$$\n",
    "\n",
    "Finally, using the same probability identity we started with, we can expand $P(D)$ in the denominator to find:\n",
    "\n",
    "$$\n",
    "P(B~|~D) = \\frac{\\int P(B~|~p,D) P(D~|~p) P(p) dp}{\\int P(D~|~p)P(p) dp}\n",
    "$$\n",
    "\n",
    "Now the desired probability is expressed in terms of three quantities that we can compute. Let's look at each of these in turn:\n",
    "<small>\n",
    "- $P(B~|~p,D)$: This term is exactly the frequentist likelihood we used above. In words: given a marker placement $p$ and the fact that Alice has won 5 times and Bob 3 times, what is the probability that Bob will go on to six wins?  \n",
    "    \n",
    "    \n",
    "- $P(D~|~p)$: this is another easy-to-compute term. In words: given a probability $p$, what is the likelihood of exactly 5 positive outcomes out of eight trials? The answer comes from the well-known [Binomial distribution](http://en.wikipedia.org/wiki/Binomial_distribution)\n",
    "    \n",
    "    \n",
    "- $P(p)$: this is our prior on the probability $p$. By the problem definition, we can assume that $p$ is evenly drawn between 0 and 1.  That is, $P(p) \\propto 1$, and the integrals range from 0 to 1.</small>\n",
    "\n",
    "# 1.2 Evaluate that integral and get an expression in terms of $p$"
   ]
  },
  {
   "cell_type": "markdown",
   "metadata": {},
   "source": [
    "## $$\n",
    "P(B~|~D) = \\frac{\\int P(B~|~p,D) P(D~|~p) P(p) dp}{\\int P(D~|~p)P(p) dp}\n",
    "$$\n",
    "\n",
    "\n",
    "## $$ P(\\mathrm{Bob\\; Wins \\; Overall}) = (1-P(\\mathrm{Alice\\; Wins}))^{n-k} $$\n",
    "\n",
    "## $$\n",
    "P(B~|~D) = \\frac{\\int (1-p)^{n-k} nC_{k} p^k (1-p)^{n-k}  dp} {\\int nC_{k} p^k (1-p)^{n-k} dp}\n",
    "$$\n",
    "\n",
    "## $$\n",
    "P(B~|~D) = \\frac{\\int  p^k (1-p)^{2(n-k)}  dp} {\\int p^k (1-p)^{n-k} dp}\n",
    "$$\n",
    "\n",
    "\n",
    "## $$ n=8; k=5 $$\n",
    "\n",
    "## $$\n",
    "P(B~|~D) = \\frac{\\int  p^5 (1-p)^{6}  dp} {\\int p^5 (1-p)^{3} dp}\n",
    "$$"
   ]
  },
  {
   "cell_type": "markdown",
   "metadata": {},
   "source": [
    "The integrals you find might look a bit difficult, but they are just special cases of the [Beta Function](http://en.wikipedia.org/wiki/Beta_function):\n",
    "$$\n",
    "\\beta(n, m) = \\int_0^1 (1 - p)^{n - 1} p^{m - 1}\n",
    "$$\n",
    "\n",
    "scipy has an implementation of this in `scipy.special`.\n",
    "\n",
    "# 1.3 Evaluate your expression numerically and compute the probability and the odds that Bob wins"
   ]
  },
  {
   "cell_type": "code",
   "execution_count": 1,
   "metadata": {},
   "outputs": [
    {
     "name": "stdout",
     "output_type": "stream",
     "text": [
      "Probability that Bob Wins: 0.091\n",
      "Odds that Bob Wins = 10.000\n"
     ]
    }
   ],
   "source": [
    "from scipy.special import beta\n",
    "p_bob_given_data = beta(7, 6)/beta(4, 6)\n",
    "print(f\"Probability that Bob Wins: {p_bob_given_data:.3f}\")\n",
    "print(f\"Odds that Bob Wins = {(1-p_bob_given_data)/(p_bob_given_data):.3f}\")"
   ]
  },
  {
   "cell_type": "markdown",
   "metadata": {},
   "source": [
    "# 1.4 Finally, lets check the result using an approach called Monte Carlo, where we simulate a bunch of games, and simply count the fraction of relevant games that Bob goes on to win. The current problem is especially simple because so many of the random variables involved are uniformly distributed. \n",
    "\n",
    "* Simulate 100,000 random p between 0 and 1 - this will be a 1D array\n",
    "* given each p, to win the game needs *at most* 11 rolls - simulate 11 rolls for each p - this will be a 2D array\n",
    "* count the cumultative wins for Alice and Bob at each roll - this is a 2D array\n",
    "* determine which games has Bob with three points by the end of game 8 - this is a 1D array\n",
    "* considering only these games, find the number of games which Bob won (i.e. has six points at the end of game 11)\n",
    "* compute the total probability that Bob won, and the odds that Bob won.\n",
    "\n",
    "\n",
    "## You don't need anything more than `numpy` to do this - in particular `numpy.random` and `numpy.cumsum` to do this.\n",
    "No for loops."
   ]
  },
  {
   "cell_type": "code",
   "execution_count": 2,
   "metadata": {},
   "outputs": [
    {
     "name": "stdout",
     "output_type": "stream",
     "text": [
      "Probability that Bob Wins: 0.084\n",
      "Odds that Bob Wins = 10.967\n"
     ]
    }
   ],
   "source": [
    "import scipy.stats as st\n",
    "\n",
    "N_draws = 100000\n",
    "p = st.uniform.rvs(size=N_draws)\n",
    "games = np.random.binomial(n=1, p=p, size=(11, len(p))).astype('bool')\n",
    "\n",
    "# we keep a track of the games Alice wins or Bob wins\n",
    "# Note that if Alice doesn't win, Bob wins, so ~games is all I need to keep track of Bob's wins\n",
    "A_cumulative_wins = np.cumsum(games, axis=0)\n",
    "B_cumulative_wins = np.cumsum(~games, axis=0)\n",
    "\n",
    "# Alice has to win 5 games by set 8\n",
    "# that's our observation, so we can toss all simulated draws that do not match that condition\n",
    "ind_A_wins_5_by_8 = A_cumulative_wins[7, :] == 5\n",
    "\n",
    "# now we only care about the number of games that Bob wins overall i.e. 6 wins in game 11\n",
    "ind_B_wins_6_by_11 = B_cumulative_wins[10, ind_A_wins_5_by_8] == 6\n",
    "\n",
    "\n",
    "# Note that you can chain masks - this is like a conditional probability\n",
    "# we're only considering games that B wins overall, given that A has 5 points by game 8\n",
    "# this is verbose synctactically, but it's clear what's going on down the line\n",
    "N_games_B_wins   = len(B_cumulative_wins[10, ind_A_wins_5_by_8][ind_B_wins_6_by_11] )\n",
    "N_games_B_played = len(B_cumulative_wins[7, ind_A_wins_5_by_8])\n",
    "\n",
    "p_B_wins = N_games_B_wins/N_games_B_played\n",
    "\n",
    "print(f\"Probability that Bob Wins: {p_B_wins:.3f}\")\n",
    "print(f\"Odds that Bob Wins = {(1-p_B_wins)/(p_B_wins):.3f}\")"
   ]
  },
  {
   "cell_type": "markdown",
   "metadata": {},
   "source": [
    "## 1.5 Why do the two results disagree?"
   ]
  },
  {
   "cell_type": "markdown",
   "metadata": {},
   "source": [
    "## A1.5\n",
    " \n",
    "Neither Alice or Bob can see the position of the mark that Carol made on the table.\n",
    "\n",
    "The best they can do in a frequentist paradigm is assess the *likelihood* of them winning based on the data they already have (the 8 rolls Carol has completed). They imagine if nothing changes, and they play n imaginary future games, each with 11 rolls, Alice will 18 games for every 1 that Bob wins, based on the 8 rolls they have. \n",
    "\n",
    "What they've failed to do is account for their own ignorance. They don't know where the mark on the table is, and 8 rolls ain't a lot of rolls. It could be that the mark doesn't favor Alice as much as she believes. \n",
    "\n",
    "This is the fundamental difference between the two calculations. Having no prior, they assume that all possible future rolls will look like the ones that have come before - i.e. they effectively assume that they do know the position of the mark, and it favors Alice 5 times out of 8 for any roll. If they were Bayesians, they'd recognize this prior is a delta function prior (which is an improper prior and too strong an assumption). \n",
    "\n",
    "Assuming the mark could be anywhere along the width of the table (i.e. a uniform prior), we're seeing how 100,000 games turn out by simulating 11 rolls, each for different locations of the mark.\n",
    "\n",
    "We then total up the games that match our observation - Alice has 5 wins by game 8, and is on the verge of victory. Bob has to stage a comeback. We then just have to see in how many of our simulations he actually makes that comeback, and Alice has a run of bad luck and can't land that last roll.\n",
    "\n",
    "He does so ~9% of the time and his odds of winning go from 18:! to 10:1. "
   ]
  },
  {
   "cell_type": "code",
   "execution_count": 3,
   "metadata": {},
   "outputs": [
    {
     "data": {
      "image/png": "[encoded data removed]",
      "text/plain": [
       "<Figure size 1080x360 with 3 Axes>"
      ]
     },
     "metadata": {
      "needs_background": "light"
     },
     "output_type": "display_data"
    }
   ],
   "source": [
    "%matplotlib inline\n",
    "\n",
    "bins = np.arange(1, 12, 1)\n",
    "fig = plt.figure(figsize=(15,5))\n",
    "\n",
    "# initially, without any information on the mark, or any observations\n",
    "# there's no reason Alice or Bob should be favored in our simulation\n",
    "ax0 = fig.add_subplot(131)\n",
    "ax0.bar(bins-0.15, np.sum(A_cumulative_wins, axis=1), color='C0', label='Alice wins by roll number')\n",
    "ax0.bar(bins, np.sum(B_cumulative_wins, axis=1), color='C1', label='Bob wins by roll number', alpha=0.8)\n",
    "ax0.set_xlabel('Roll Number')\n",
    "ax0.set_ylabel('Cumulative wins for games - simulated')\n",
    "ax0.legend(frameon=False)\n",
    "ax0.set_title('No favorite initially')\n",
    "\n",
    "# Let's check the simulated games that match our observation of Alice winning 5 rolls by roll #8\n",
    "ax1 = fig.add_subplot(132)\n",
    "ax1.bar(bins-0.15, np.sum(A_cumulative_wins[:,ind_A_wins_5_by_8], axis=1), color='C0', label='Alice wins by roll number')\n",
    "ax1.bar(bins, np.sum(B_cumulative_wins[:,ind_A_wins_5_by_8], axis=1), color='C1', label='Bob wins by roll number', alpha=0.8)\n",
    "ax1.set_xlabel('Roll Number')\n",
    "ax1.set_ylabel('Cumulative wins for games where A has 5 wins by roll 8')\n",
    "ax1.legend(frameon=False)\n",
    "ax1.set_title('Games with Alice winning 5 out of 8 rolls')\n",
    "\n",
    "# Let's check the simulated games that Bob wins overall, making a comeback\n",
    "ax2 = fig.add_subplot(133)\n",
    "ax2.bar(bins-0.15, np.sum(A_cumulative_wins[:,ind_A_wins_5_by_8][:, ind_B_wins_6_by_11], axis=1), color='C0', label='Alice wins by roll number')\n",
    "ax2.bar(bins, np.sum(B_cumulative_wins[:,ind_A_wins_5_by_8][:, ind_B_wins_6_by_11], axis=1), color='C1', label='Bob wins by roll number', alpha=0.8)\n",
    "ax2.set_xlabel('Roll Number')\n",
    "ax2.set_ylabel('Cumulative wins: games with A at 5 wins by roll 8, B wins overall')\n",
    "ax2.legend(frameon=False)\n",
    "ax2.set_title('Games where Bob makes a comeback')\n",
    "\n",
    "fig.tight_layout()\n",
    "plt.show()"
   ]
  },
  {
   "cell_type": "markdown",
   "metadata": {},
   "source": [
    "This frequentist thinking is what casinos use to trap gullible players, who believe they are on a \"streak\", failing to account for the fact that games are independent, and their ability to win a fair game isn't affected by if they've been winning in the past or not. "
   ]
  }
 ],
 "metadata": {
  "celltoolbar": "Slideshow",
  "kernelspec": {
   "display_name": "Python [conda env:fds] *",
   "language": "python",
   "name": "conda-env-fds-py"
  },
  "language_info": {
   "codemirror_mode": {
    "name": "ipython",
    "version": 3
   },
   "file_extension": ".py",
   "mimetype": "text/x-python",
   "name": "python",
   "nbconvert_exporter": "python",
   "pygments_lexer": "ipython3",
   "version": "3.7.6"
  },
  "livereveal": {
   "scroll": true,
   "start_slideshow_at": "selected",
   "theme": "sky"
  }
 },
 "nbformat": 4,
 "nbformat_minor": 2
}
