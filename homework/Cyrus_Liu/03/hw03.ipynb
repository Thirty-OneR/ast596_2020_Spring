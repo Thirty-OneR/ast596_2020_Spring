{
 "cells": [
  {
   "cell_type": "markdown",
   "metadata": {},
   "source": [
    "# ASTR596, FDS: Homework set 3 - Moving from MLE and Frequentism to evaluating the Posterior distribution and Bayesian Statistics\n",
    "\n",
    "\n",
    "\n",
    "## Problem 1\n",
    "\n",
    "Last week you showed that Bayesian and Frequentist approaches are often equivalent for simple problems (after all you implicitly had a prior in the form of a grid). \n",
    "\n",
    "But it is also true that they can diverge greatly. In practice, this divergence makes itself most clear in two different situations:\n",
    "\n",
    "1. The handling of \"nuisance parameters\"\n",
    "2. The subtle (and often overlooked) difference between frequentist confidence intervals and Bayesian credible intervals\n",
    "\n",
    "Here, we focus on the first point: the difference between frequentist and Bayesian treatment of nuisance parameters.\n",
    "\n",
    "\n",
    "## What is a Nuisance Parameter?\n",
    "\n",
    "***A nuisance parameter is any quantity whose value is not relevant to the goal of an analysis, but is nevertheless required to determine some quantity of interest***.\n",
    "\n",
    "For example, last week, in problem 3, we estimated both the mean $C$ and shape $\\sigma_\\text{source}$ for some spherical cow galaxy. Now the shape might be important, but in homework 1, you only needed the brightness of the sources where you plotted up $r$ vs $g-i$ for galaxies (you needed the shape to separate stars from galaxies in the form of MEAN_OBJECT_TYPE, but that's it).\n",
    "\n",
    "As far as you were concerned in homework 1, the shape was a **nuisance** parameter.\n",
    "\n",
    "\n",
    "## A Classic Problem:\n",
    "\n",
    "\n",
    "We'll start with an example of nuisance parameters that, in one form or another, dates all the way back to the posthumous [1763 paper](http://www.stat.ucla.edu/history/essay.pdf) written by Thomas Bayes himself. The particular version of this problem we'll study is borrowed from [Eddy 2004](ftp://selab.janelia.org/pub/publications/Eddy-ATG3/Eddy-ATG3-reprint.pdf)."
   ]
  },
  {
   "cell_type": "markdown",
   "metadata": {},
   "source": [
    "The setting is a rather contrived game in which Alice and Bob bet on the outcome of a process they can't directly observe:\n",
    "\n",
    "> Alice and Bob enter a room. Behind a curtain there is a billiard table, which they cannot see, but their friend Carol can. Carol rolls a ball down the table, and marks where it lands. Once this mark is in place, Carol begins rolling new balls down the table. If the ball lands to the left of the mark, Alice gets a point; if it lands to the right of the mark, Bob gets a point.  We can assume for the sake of example that Carol's rolls are unbiased: that is, the balls have an equal chance of ending up anywhere on the table.  **The first person to reach six points wins the game.**\n",
    "\n",
    "Here ***the location of the mark (determined by the first roll) can be considered a nuisance parameter***.\n",
    "\n",
    "It is unknown, and not of immediate interest, but it clearly must be accounted for when predicting the outcome of subsequent rolls. If the first roll settles far to the right, then subsequent rolls will favor Alice. If it settles far to the left, Bob will be favored instead."
   ]
  },
  {
   "cell_type": "markdown",
   "metadata": {},
   "source": [
    "Given this setup, here is the question we ask of ourselves:\n",
    "\n",
    "> In a particular game, after eight rolls, Alice has five points and Bob has three points. What is the probability that Bob will go on to win the game?\n",
    "\n",
    "Intuitively, you probably realize that because Alice received five of the eight points, the marker placement likely favors her. And given this, it's more likely that the next roll will go her way as well. \n",
    "\n",
    "And she has three opportunities to get a favorable roll before Bob can win; she seems to have clinched it.  But, **quantitatively**, what is the probability that Bob will squeak-out a win?\n",
    "\n",
    "\n",
    "Someone following a classical frequentist approach might reason as follows:\n",
    "\n",
    "To determine the result, we need an intermediate estimate of where the marker sits. We'll quantify this marker placement as a probability $p$ that any given roll lands in Alice's favor.  Because five balls out of eight fell on Alice's side of the marker, we can quickly show that the maximum likelihood estimate of $p$ is given by:\n",
    "\n",
    "$$\n",
    "\\hat{p} = 5/8\n",
    "$$\n",
    "\n",
    "(This result follows in a straightforward manner from the [binomial likelihood](http://en.wikipedia.org/wiki/Binomial_distribution)). \n",
    "\n",
    "# 1.1 Under the assumptions of maximum likelihood, what is the probability of Bob winning the game - i.e. getting six points, and what are the odds \n",
    "# (i.e. $(1 - p_\\text{Bob wins})/p_\\text{Bob wins}$)"
   ]
  },
  {
   "cell_type": "code",
   "execution_count": 2,
   "metadata": {},
   "outputs": [
    {
     "data": {
      "text/plain": [
       "17.962962962962962"
      ]
     },
     "execution_count": 2,
     "metadata": {},
     "output_type": "execute_result"
    }
   ],
   "source": [
    "## your answer here\n",
    "\n",
    "(1-(3/8)**3)/(3/8)**3"
   ]
  },
  {
   "cell_type": "markdown",
   "metadata": {},
   "source": [
    "We can also approach this problem from a Bayesian standpoint. This is slightly more involved, and requires us to first define some notation.\n",
    "\n",
    "We'll consider the following random variables:\n",
    "\n",
    "- $B$ = Bob Wins\n",
    "- $D$ = observed data, i.e. $D = (n_A, n_B) = (5, 3)$\n",
    "- $p$ = unknown probability that a ball lands on Alice's side during the current game\n",
    "\n",
    "We want to compute $P(B~|~D)$; that is, the probability that Bob wins given our observation that Alice currently has five points to Bob's three."
   ]
  },
  {
   "cell_type": "markdown",
   "metadata": {},
   "source": [
    "The general Bayesian method of treating nuisance parameters is ***marginalization***, or integrating the joint probability over the entire range of the nuisance parameter. In this case, that means that we will first calculate the joint distribution\n",
    "$$\n",
    "P(B,p~|~D)\n",
    "$$\n",
    "and then marginalize over $p$ using the following identity:\n",
    "$$\n",
    "P(B~|~D) \\equiv \\int_{-\\infty}^\\infty P(B,p~|~D) {\\mathrm d}p\n",
    "$$\n",
    "This identity follows from the definition of conditional probability, and the law of total probability: that is, it is a fundamental consequence of probability axioms and will always be true. Even a frequentist would recognize this; they would simply disagree with our interpretation of $P(p)$ as being a measure of uncertainty of our own knowledge.\n",
    "\n",
    "To compute this result, we will manipulate the above expression for $P(B~|~D)$ until we can express it in terms of other quantities that we can compute.\n",
    "\n",
    "We'll start by applying the following definition of [conditional probability](http://en.wikipedia.org/wiki/Conditional_probability#Definition) to expand the term $P(B,p~|~D)$:\n",
    "\n",
    "$$\n",
    "P(B~|~D) = \\int P(B~|~p, D) P(p~|~D) dp\n",
    "$$\n",
    "\n",
    "Next we use [Bayes' rule](http://en.wikipedia.org/wiki/Bayes%27_theorem) to rewrite $P(p~|~D)$:\n",
    "\n",
    "$$\n",
    "P(B~|~D) = \\int P(B~|~p, D) \\frac{P(D~|~p)P(p)}{P(D)} dp\n",
    "$$\n",
    "\n",
    "Finally, using the same probability identity we started with, we can expand $P(D)$ in the denominator to find:\n",
    "\n",
    "$$\n",
    "P(B~|~D) = \\frac{\\int P(B~|~p,D) P(D~|~p) P(p) dp}{\\int P(D~|~p)P(p) dp}\n",
    "$$\n",
    "\n",
    "Now the desired probability is expressed in terms of three quantities that we can compute. Let's look at each of these in turn:\n",
    "<small>\n",
    "- $P(B~|~p,D)$: This term is exactly the frequentist likelihood we used above. In words: given a marker placement $p$ and the fact that Alice has won 5 times and Bob 3 times, what is the probability that Bob will go on to six wins?  \n",
    "    \n",
    "    \n",
    "- $P(D~|~p)$: this is another easy-to-compute term. In words: given a probability $p$, what is the likelihood of exactly 5 positive outcomes out of eight trials? The answer comes from the well-known [Binomial distribution](http://en.wikipedia.org/wiki/Binomial_distribution)\n",
    "    \n",
    "    \n",
    "- $P(p)$: this is our prior on the probability $p$. By the problem definition, we can assume that $p$ is evenly drawn between 0 and 1.  That is, $P(p) \\propto 1$, and the integrals range from 0 to 1.</small>\n",
    "\n",
    "# 1.2 Evaluate that integral and get an expression in terms of $p$"
   ]
  },
  {
   "cell_type": "markdown",
   "metadata": {},
   "source": [
    "# Your answer here\n",
    "\n",
    "$$\n",
    "P(B~|~D) = \\frac{\\int_0^1 (1-p)^3 (1-p)^3 p^5  dp}{\\int_0^1 (1-p)^3 p^5 dp}\n",
    "$$"
   ]
  },
  {
   "cell_type": "markdown",
   "metadata": {},
   "source": [
    "The integrals you find might look a bit difficult, but they are just special cases of the [Beta Function](http://en.wikipedia.org/wiki/Beta_function):\n",
    "$$\n",
    "\\beta(n, m) = \\int_0^1 (1 - p)^{n - 1} p^{m - 1}\n",
    "$$\n",
    "\n",
    "scipy has an implementation of this in `scipy.special`.\n",
    "\n",
    "# 1.3 Evaluate your expression numerically and compute the probability and the odds that Bob wins"
   ]
  },
  {
   "cell_type": "code",
   "execution_count": 41,
   "metadata": {},
   "outputs": [
    {
     "data": {
      "text/plain": [
       "0.09090909090909091"
      ]
     },
     "execution_count": 41,
     "metadata": {},
     "output_type": "execute_result"
    }
   ],
   "source": [
    "# your answer here\n",
    "import scipy.special as f\n",
    "\n",
    "P=f.beta(6,7)/f.beta(6,4)\n",
    "P"
   ]
  },
  {
   "cell_type": "markdown",
   "metadata": {},
   "source": [
    "# 1.4 Finally, lets check the result using an approach called Monte Carlo, where we simulate a bunch of games, and simply count the fraction of relevant games that Bob goes on to win. The current problem is especially simple because so many of the random variables involved are uniformly distributed. \n",
    "\n",
    "* Simulate 100,000 random p between 0 and 1 - this will be a 1D array\n",
    "* given each p, to win the game needs *at most* 11 rolls - simulate 11 rolls for each p - this will be a 2D array\n",
    "* count the cumultative wins for Alice and Bob at each roll - this is a 2D array\n",
    "* determine which games has Bob with three points by the end of game 8 - this is a 1D array\n",
    "* considering only these games, find the number of games which Bob won (i.e. has six points at the end of game 11)\n",
    "* compute the total probability that Bob won, and the odds that Bob won.\n",
    "\n",
    "\n",
    "## You don't need anything more than `numpy` to do this - in particular `numpy.random` and `numpy.cumsum` to do this.\n",
    "No for loops."
   ]
  },
  {
   "cell_type": "code",
<<<<<<< HEAD
<<<<<<< HEAD
   "execution_count": 45,
=======
   "execution_count": 37,
>>>>>>> upstream/master
=======
   "execution_count": 180,
>>>>>>> upstream/master
   "metadata": {},
   "outputs": [
    {
     "name": "stdout",
     "output_type": "stream",
     "text": [
<<<<<<< HEAD
<<<<<<< HEAD
      "1024\n",
      "0.01024\n",
      "96.65624999999999\n"
=======
      "1025\n",
      "0.01025\n",
      "96.5609756097561\n"
>>>>>>> upstream/master
=======
      "(14767, 11)\n",
      "10120\n",
      "0.1012\n",
      "8.881422924901186\n"
>>>>>>> upstream/master
     ]
    }
   ],
   "source": [
    "# your answer here\n",
    "\n",
    "import numpy as np\n",
    "n=100000\n",
    "P=np.random.uniform(size=n)\n",
    "\n",
<<<<<<< HEAD
<<<<<<< HEAD
    "R=np.random.uniform(size=(n,11))\n",
    "\n",
    "P2=np.ones(11)\n",
    "p3,P4=np.meshgrid(P2,P)\n",
    "\n",
    "T=R<P4\n",
    "\n",
    "T2=np.cumsum(T,axis=1)\n",
    "\n",
    "T3=(T2[:,7]==3)\n",
    "\n",
    "T4=T2[T3]\n",
    "\n",
    "T5=(T4[:,-1]>=6)\n",
    "won=np.cumsum(T5)[-1]\n",
    "\n",
=======
    "R=[]\n",
    "for p in P:\n",
    "    R.append(np.random.uniform(size=11))\n",
    "    \n",
    "T=[]\n",
    "for i,p in enumerate(P):\n",
    "    t=[]\n",
    "    for r in R[i]:\n",
    "        if r<p:\n",
    "            t.append(0)\n",
    "        elif r>=p:\n",
    "            t.append(1)\n",
    "    T.append(t)        \n",
    "T=np.array(T)\n",
    "\n",
    "T2=[]\n",
    "for t in T:\n",
    "    a=np.cumsum(t[0:8],axis=0)\n",
    "    if a[-1]==3:\n",
    "        T2.append(t)\n",
    "        \n",
    "T2=np.array(T2)\n",
    "\n",
    "won=0\n",
    "for t in T2:\n",
    "    a=np.cumsum(t,axis=0)\n",
    "    if a[-1]>=6:\n",
    "        won+=1\n",
>>>>>>> upstream/master
=======
    "R=np.random.normal(size=(n,11))\n",
    "\n",
    "p=np.ones(11)\n",
    "P1,P2=np.meshgrid(p,P)\n",
    "\n",
    "T=R<=P2\n",
    "\n",
    "T2=(np.cumsum(T[:,0:8],axis=1)[:,-1]==4)\n",
    "T3=T[T2]\n",
    "print(T3.shape)\n",
    "T4=np.cumsum(T3,axis=1)[:,-1]>=6\n",
    "\n",
    "won=np.cumsum(T4)[-1]\n",
>>>>>>> upstream/master
    "print(won)\n",
    "p=won/n\n",
    "print(p)\n",
    "print((1-p)/p)"
   ]
  },
  {
<<<<<<< HEAD
   "cell_type": "code",
   "execution_count": 49,
   "metadata": {},
   "outputs": [],
   "source": [
    "import matplotlib.pyplot as plt\n",
    "wons=[]\n",
    "for a in range(1000):\n",
    "    n=100000\n",
    "    P=np.random.uniform(size=n)\n",
    "\n",
    "    R=np.random.uniform(size=(n,11))\n",
    "\n",
    "    P2=np.ones(11)\n",
    "    p3,P4=np.meshgrid(P2,P)\n",
    "\n",
    "    T=R<P4\n",
    "\n",
    "    T2=np.cumsum(T,axis=1)\n",
    "\n",
    "    T3=(T2[:,7]==3)\n",
    "\n",
    "    T4=T2[T3]\n",
    "\n",
    "    T5=(T4[:,-1]>=6)\n",
    "    won=np.cumsum(T5)[-1]\n",
    "    \n",
    "    wons.append(won)"
   ]
  },
  {
   "cell_type": "code",
   "execution_count": 52,
   "metadata": {},
   "outputs": [
    {
     "data": {
      "text/plain": [
       "(array([  4.,   4.,   8.,  12.,  25.,  39.,  57., 109., 109., 132., 134.,\n",
       "        105.,  92.,  65.,  45.,  35.,  13.,   9.,   1.,   2.]),\n",
       " array([ 910.,  920.,  930.,  940.,  950.,  960.,  970.,  980.,  990.,\n",
       "        1000., 1010., 1020., 1030., 1040., 1050., 1060., 1070., 1080.,\n",
       "        1090., 1100., 1110.]),\n",
       " <a list of 20 Patch objects>)"
      ]
     },
     "execution_count": 52,
     "metadata": {},
     "output_type": "execute_result"
    },
    {
     "data": {
      "image/png": "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\n",
      "text/plain": [
       "<Figure size 432x288 with 1 Axes>"
      ]
     },
     "metadata": {
      "needs_background": "light"
     },
     "output_type": "display_data"
    }
   ],
   "source": [
    "plt.hist(wons,bins=20)"
   ]
  },
  {
=======
>>>>>>> upstream/master
   "cell_type": "markdown",
   "metadata": {},
   "source": [
    "# 1.5 Why do the two results disagree?\n",
    "\n",
    "Likely due to sample size, 100000 is a very large number but it is not infinite. The result from 1.4 is only a sampling of the original distribution."
   ]
  },
  {
   "cell_type": "markdown",
   "metadata": {},
   "source": [
    "# Your answer here"
   ]
  },
  {
   "cell_type": "code",
   "execution_count": null,
   "metadata": {},
   "outputs": [],
   "source": []
  },
  {
   "cell_type": "code",
   "execution_count": null,
   "metadata": {},
   "outputs": [],
   "source": []
  },
  {
   "cell_type": "code",
   "execution_count": null,
   "metadata": {},
   "outputs": [],
   "source": []
  }
 ],
 "metadata": {
  "celltoolbar": "Slideshow",
  "kernelspec": {
   "display_name": "Python 3",
   "language": "python",
   "name": "python3"
  },
  "language_info": {
   "codemirror_mode": {
    "name": "ipython",
    "version": 3
   },
   "file_extension": ".py",
   "mimetype": "text/x-python",
   "name": "python",
   "nbconvert_exporter": "python",
   "pygments_lexer": "ipython3",
   "version": "3.7.6"
  },
  "livereveal": {
   "scroll": true,
   "start_slideshow_at": "selected",
   "theme": "sky"
  }
 },
 "nbformat": 4,
 "nbformat_minor": 2
}
