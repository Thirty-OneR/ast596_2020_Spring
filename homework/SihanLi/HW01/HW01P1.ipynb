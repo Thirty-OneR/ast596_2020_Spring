{
 "cells": [
  {
   "cell_type": "code",
   "execution_count": 1,
   "metadata": {},
   "outputs": [],
   "source": [
    "import astropy.io.fits as afits"
   ]
  },
  {
   "cell_type": "code",
   "execution_count": 2,
   "metadata": {},
   "outputs": [],
   "source": [
    "hdul1 = afits.open('/Users/siriuslee/Downloads/HLC/HLC.RA_00_to_01.fits')\n",
    "hdul2 = afits.open('/Users/siriuslee/Downloads/HLC/HLC.RA_01_to_02.fits')\n",
    "hdul3 = afits.open('/Users/siriuslee/Downloads/HLC/HLC.RA_02_to_03.fits')\n",
    "hdul4 = afits.open('/Users/siriuslee/Downloads/HLC/HLC.RA_03_to_04.fits')\n",
    "hdul5 = afits.open('/Users/siriuslee/Downloads/HLC/HLC.RA_20_to_21.fits')\n",
    "hdul6 = afits.open('/Users/siriuslee/Downloads/HLC/HLC.RA_21_to_22.fits')\n",
    "hdul7 = afits.open('/Users/siriuslee/Downloads/HLC/HLC.RA_22_to_23.fits')\n",
    "hdul8 = afits.open('/Users/siriuslee/Downloads/HLC/HLC.RA_23_to_24.fits')"
   ]
  },
  {
   "cell_type": "code",
   "execution_count": 3,
   "metadata": {},
   "outputs": [
    {
     "name": "stdout",
     "output_type": "stream",
     "text": [
      "Filename: /Users/siriuslee/Downloads/HLC/HLC.RA_00_to_01.fits\n",
      "No.    Name      Ver    Type      Cards   Dimensions   Format\n",
      "  0  PRIMARY       1 PrimaryHDU       4   ()      \n",
      "  1                1 BinTableHDU    171   446842R x 77C   [46A, 24A, 5I, 5E, 5E, 5E, 5E, 5E, 5E, 5E, 5E, 5I, 5I, 5E, 5E, 5E, 5E, 5E, 5E, 5E, 5E, 5E, 5E, 5E, 5E, 5E, 5E, 5E, 5E, 5E, 5E, D, E, E, 5E, D, E, E, E, D, E, E, E, E, E, E, E, D, E, E, E, D, E, E, E, E, E, E, E, D, D, I, I, E, E, D, E, E, D, 5E, 5E, 5E, 5E, 5E, 5E, 5E, 5E]   \n"
     ]
    }
   ],
   "source": [
    "hdul1.info()"
   ]
  },
  {
   "cell_type": "code",
   "execution_count": 4,
   "metadata": {},
   "outputs": [
    {
     "data": {
      "text/plain": [
       "['SIMPLE', 'BITPIX', 'NAXIS', 'EXTEND']"
      ]
     },
     "execution_count": 4,
     "metadata": {},
     "output_type": "execute_result"
    }
   ],
   "source": [
    "hdr1 = hdul1[0].header\n",
    "list(hdr1.keys())"
   ]
  },
  {
   "cell_type": "code",
   "execution_count": 5,
   "metadata": {},
   "outputs": [],
   "source": [
    "data1 = hdul1[1].data\n",
    "data2 = hdul2[1].data\n",
    "data3 = hdul3[1].data\n",
    "data4 = hdul4[1].data\n",
    "data5 = hdul5[1].data\n",
    "data6 = hdul6[1].data\n",
    "data7 = hdul7[1].data\n",
    "data8 = hdul8[1].data"
   ]
  },
  {
   "cell_type": "code",
   "execution_count": 6,
   "metadata": {},
   "outputs": [
    {
     "data": {
      "text/plain": [
       "array([3.975    , 3.       , 5.9871793, ..., 5.9565215, 3.       ,\n",
       "       3.       ], dtype=float32)"
      ]
     },
     "execution_count": 6,
     "metadata": {},
     "output_type": "execute_result"
    }
   ],
   "source": [
    "data1.field('MEAN_OBJECT_TYPE')\n",
    "data2.field('MEAN_OBJECT_TYPE')\n",
    "data3.field('MEAN_OBJECT_TYPE')\n",
    "data4.field('MEAN_OBJECT_TYPE')\n",
    "data5.field('MEAN_OBJECT_TYPE')\n",
    "data6.field('MEAN_OBJECT_TYPE')\n",
    "data7.field('MEAN_OBJECT_TYPE')\n",
    "data8.field('MEAN_OBJECT_TYPE')"
   ]
  },
  {
   "cell_type": "code",
   "execution_count": 13,
   "metadata": {},
   "outputs": [
    {
     "data": {
      "text/plain": [
       "(446842,)"
      ]
     },
     "execution_count": 13,
     "metadata": {},
     "output_type": "execute_result"
    }
   ],
   "source": [
    "data1.shape"
   ]
  },
  {
   "cell_type": "code",
   "execution_count": 7,
   "metadata": {},
   "outputs": [],
   "source": [
    "import numpy as np\n",
    "MEAN_OBJECT_TYPE_1 = np.array(data1.field('MEAN_OBJECT_TYPE'))\n",
    "MEAN_OBJECT_TYPE_2 = np.array(data2.field('MEAN_OBJECT_TYPE'))\n",
    "MEAN_OBJECT_TYPE_3 = np.array(data3.field('MEAN_OBJECT_TYPE'))\n",
    "MEAN_OBJECT_TYPE_4 = np.array(data4.field('MEAN_OBJECT_TYPE'))\n",
    "MEAN_OBJECT_TYPE_5 = np.array(data5.field('MEAN_OBJECT_TYPE'))\n",
    "MEAN_OBJECT_TYPE_6 = np.array(data6.field('MEAN_OBJECT_TYPE'))\n",
    "MEAN_OBJECT_TYPE_7 = np.array(data7.field('MEAN_OBJECT_TYPE'))\n",
    "MEAN_OBJECT_TYPE_8 = np.array(data8.field('MEAN_OBJECT_TYPE'))"
   ]
  },
  {
   "cell_type": "code",
   "execution_count": 8,
   "metadata": {},
   "outputs": [
    {
     "data": {
      "text/plain": [
       "array([3.2     , 3.      , 5.4     , ..., 3.      , 3.      , 5.571429],\n",
       "      dtype=float32)"
      ]
     },
     "execution_count": 8,
     "metadata": {},
     "output_type": "execute_result"
    }
   ],
   "source": [
    "MEAN_OBJECT_TYPE_1"
   ]
  },
  {
   "cell_type": "code",
   "execution_count": 11,
   "metadata": {},
   "outputs": [
    {
     "name": "stdout",
     "output_type": "stream",
     "text": [
      "Using matplotlib backend: MacOSX\n",
      "Populating the interactive namespace from numpy and matplotlib\n"
     ]
    }
   ],
   "source": [
    "%pylab"
   ]
  },
  {
   "cell_type": "code",
   "execution_count": 12,
   "metadata": {},
   "outputs": [
    {
     "data": {
      "text/plain": [
       "(array([214162.,  20580.,  13268.,   9351.,   6655.,   9576.,   9626.,\n",
       "         12748.,  20734., 153236.]),\n",
       " array([3. , 3.3, 3.6, 3.9, 4.2, 4.5, 4.8, 5.1, 5.4, 5.7, 6. ],\n",
       "       dtype=float32),\n",
       " <a list of 10 Patch objects>)"
      ]
     },
     "execution_count": 12,
     "metadata": {},
     "output_type": "execute_result"
    }
   ],
   "source": [
    "import numpy as np\n",
    "hist(MEAN_OBJECT_TYPE_1)\n",
    "hist(MEAN_OBJECT_TYPE_2)\n",
    "hist(MEAN_OBJECT_TYPE_3)\n",
    "hist(MEAN_OBJECT_TYPE_4)\n",
    "hist(MEAN_OBJECT_TYPE_5)\n",
    "hist(MEAN_OBJECT_TYPE_6)\n",
    "hist(MEAN_OBJECT_TYPE_7)\n",
    "hist(MEAN_OBJECT_TYPE_8)"
   ]
  },
  {
   "cell_type": "code",
   "execution_count": 13,
   "metadata": {},
   "outputs": [],
   "source": [
    "ind_gt_5_1 = MEAN_OBJECT_TYPE_1 > 5\n",
    "ind_gt_5_2 = MEAN_OBJECT_TYPE_2 > 5\n",
    "ind_gt_5_3 = MEAN_OBJECT_TYPE_3 > 5\n",
    "ind_gt_5_4 = MEAN_OBJECT_TYPE_4 > 5\n",
    "ind_gt_5_5 = MEAN_OBJECT_TYPE_5 > 5\n",
    "ind_gt_5_6 = MEAN_OBJECT_TYPE_6 > 5\n",
    "ind_gt_5_7 = MEAN_OBJECT_TYPE_7 > 5\n",
    "ind_gt_5_8 = MEAN_OBJECT_TYPE_8 > 5"
   ]
  },
  {
   "cell_type": "markdown",
   "metadata": {},
   "source": [
    "For HLC 1:"
   ]
  },
  {
   "cell_type": "code",
   "execution_count": 14,
   "metadata": {},
   "outputs": [
    {
     "data": {
      "text/plain": [
       "array([False, False,  True, ..., False, False,  True])"
      ]
     },
     "execution_count": 14,
     "metadata": {},
     "output_type": "execute_result"
    }
   ],
   "source": [
    "ind_gt_5_1"
   ]
  },
  {
   "cell_type": "code",
   "execution_count": 15,
   "metadata": {},
   "outputs": [
    {
     "data": {
      "text/plain": [
       "array([5.4     , 6.      , 6.      , ..., 5.131579, 6.      , 5.571429],\n",
       "      dtype=float32)"
      ]
     },
     "execution_count": 15,
     "metadata": {},
     "output_type": "execute_result"
    }
   ],
   "source": [
    "MEAN_OBJECT_TYPE_1[ind_gt_5_1]"
   ]
  },
  {
   "cell_type": "code",
   "execution_count": 25,
   "metadata": {},
   "outputs": [],
   "source": [
    "mag_1 = data1.field('MEAN_PSFMAG')"
   ]
  },
  {
   "cell_type": "code",
   "execution_count": 26,
   "metadata": {},
   "outputs": [
    {
     "data": {
      "text/plain": [
       "array([ 0.      , 22.679943, 21.68856 , 21.280607, 20.9605  ],\n",
       "      dtype=float32)"
      ]
     },
     "execution_count": 26,
     "metadata": {},
     "output_type": "execute_result"
    }
   ],
   "source": [
    "mag_1[0]"
   ]
  },
  {
   "cell_type": "code",
   "execution_count": 27,
   "metadata": {},
   "outputs": [],
   "source": [
    "import pandas as pd"
   ]
  },
  {
   "cell_type": "code",
   "execution_count": 33,
   "metadata": {},
   "outputs": [],
   "source": [
    "df_1 = pd.DataFrame(data=mag, columns=['u','g','r','i','z'])"
   ]
  },
  {
   "cell_type": "code",
   "execution_count": 34,
   "metadata": {},
   "outputs": [],
   "source": [
    "g_i_1 = df_1['g'] - df_1['i']"
   ]
  },
  {
   "cell_type": "code",
   "execution_count": 35,
   "metadata": {},
   "outputs": [
    {
     "data": {
      "text/plain": [
       "0          1.399336\n",
       "1          1.295595\n",
       "2          1.007549\n",
       "3          0.505522\n",
       "4          2.201035\n",
       "            ...    \n",
       "446837     1.156912\n",
       "446838   -21.784304\n",
       "446839     1.258373\n",
       "446840     1.097321\n",
       "446841     2.454905\n",
       "Length: 446842, dtype: float32"
      ]
     },
     "execution_count": 35,
     "metadata": {},
     "output_type": "execute_result"
    }
   ],
   "source": [
    "g_i_1"
   ]
  },
  {
   "cell_type": "code",
   "execution_count": 36,
   "metadata": {},
   "outputs": [
    {
     "data": {
      "text/plain": [
       "0         21.280607\n",
       "1         21.199217\n",
       "2         20.808842\n",
       "3         18.329546\n",
       "4         18.767252\n",
       "            ...    \n",
       "446837    21.213522\n",
       "446838    21.784304\n",
       "446839    21.308075\n",
       "446840    21.350016\n",
       "446841    20.372513\n",
       "Name: i, Length: 446842, dtype: float32"
      ]
     },
     "execution_count": 36,
     "metadata": {},
     "output_type": "execute_result"
    }
   ],
   "source": [
    "df_1['i']"
   ]
  },
  {
   "cell_type": "code",
   "execution_count": 37,
   "metadata": {},
   "outputs": [
    {
     "data": {
      "text/plain": [
       "array([[ 0.      , 22.679943, 21.68856 , 21.280607, 20.9605  ],\n",
       "       [ 0.      , 22.494812, 21.485416, 21.199217, 20.647459],\n",
       "       [ 0.      , 21.816391, 22.191387, 20.808842, 20.021967],\n",
       "       ...,\n",
       "       [ 0.      , 22.566448, 21.650923, 21.308075, 20.905756],\n",
       "       [ 0.      , 22.447336, 21.6745  , 21.350016, 20.7     ],\n",
       "       [ 0.      , 22.827417, 21.558525, 20.372513, 19.662767]],\n",
       "      dtype=float32)"
      ]
     },
     "execution_count": 37,
     "metadata": {},
     "output_type": "execute_result"
    }
   ],
   "source": [
    "mag_1"
   ]
  },
  {
   "cell_type": "code",
   "execution_count": 38,
   "metadata": {
    "scrolled": true
   },
   "outputs": [
    {
     "data": {
      "text/plain": [
       "0         21.688560\n",
       "1         21.485416\n",
       "2         22.191387\n",
       "3         18.476278\n",
       "4         19.645609\n",
       "            ...    \n",
       "446837    21.542784\n",
       "446838     0.000000\n",
       "446839    21.650923\n",
       "446840    21.674500\n",
       "446841    21.558525\n",
       "Name: r, Length: 446842, dtype: float32"
      ]
     },
     "execution_count": 38,
     "metadata": {},
     "output_type": "execute_result"
    }
   ],
   "source": [
    "df_1['r']"
   ]
  },
  {
   "cell_type": "code",
   "execution_count": 40,
   "metadata": {},
   "outputs": [],
   "source": [
    "%matplotlib inline"
   ]
  },
  {
   "cell_type": "code",
   "execution_count": 41,
   "metadata": {},
   "outputs": [
    {
     "data": {
      "text/plain": [
       "<matplotlib.collections.PathCollection at 0x20009a950>"
      ]
     },
     "execution_count": 41,
     "metadata": {},
     "output_type": "execute_result"
    },
    {
     "data": {
      "image/png": "[encoded data removed]",
      "text/plain": [
       "<Figure size 432x288 with 1 Axes>"
      ]
     },
     "metadata": {
      "needs_background": "light"
     },
     "output_type": "display_data"
    }
   ],
   "source": [
    "scatter(df_1['g'] - df_1['i'], df_1['r'], marker='.', color='C0')\n",
    "scatter(df_1['g'][ind_gt_5_1] - df_1['i'][ind_gt_5_1], df['r'][ind_gt_5_1], marker='.', color='C1' )"
   ]
  },
  {
   "cell_type": "code",
   "execution_count": 42,
   "metadata": {},
   "outputs": [
    {
     "data": {
      "text/plain": [
       "2          1.007549\n",
       "3          0.505522\n",
       "4          2.201035\n",
       "6          1.294596\n",
       "11         1.247768\n",
       "            ...    \n",
       "446831     0.360558\n",
       "446832     0.439510\n",
       "446833     2.418316\n",
       "446835   -21.789499\n",
       "446841     2.454905\n",
       "Length: 152135, dtype: float32"
      ]
     },
     "execution_count": 42,
     "metadata": {},
     "output_type": "execute_result"
    }
   ],
   "source": [
    "g_i_1[ind_gt_5_1]"
   ]
  },
  {
   "cell_type": "code",
   "execution_count": null,
   "metadata": {},
   "outputs": [],
   "source": []
  }
 ],
 "metadata": {
  "kernelspec": {
   "display_name": "Python [conda env:root] *",
   "language": "python",
   "name": "conda-root-py"
  },
  "language_info": {
   "codemirror_mode": {
    "name": "ipython",
    "version": 3
   },
   "file_extension": ".py",
   "mimetype": "text/x-python",
   "name": "python",
   "nbconvert_exporter": "python",
   "pygments_lexer": "ipython3",
   "version": "3.7.4"
  }
 },
 "nbformat": 4,
 "nbformat_minor": 4
}
