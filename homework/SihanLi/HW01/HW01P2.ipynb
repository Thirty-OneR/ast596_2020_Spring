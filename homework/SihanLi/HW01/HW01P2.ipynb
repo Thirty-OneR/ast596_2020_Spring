{
 "cells": [
  {
   "cell_type": "code",
   "execution_count": 1,
   "metadata": {},
   "outputs": [],
   "source": [
    "import pandas as pd"
   ]
  },
  {
   "cell_type": "code",
   "execution_count": 2,
   "metadata": {},
   "outputs": [],
   "source": [
    "data = pd.read_csv('/Users/siriuslee/ast596_2020_Spring/data/01/IntroStat_demo.csv')"
   ]
  },
  {
   "cell_type": "code",
   "execution_count": 3,
   "metadata": {},
   "outputs": [
    {
     "data": {
      "text/html": [
       "<div>\n",
       "<style scoped>\n",
       "    .dataframe tbody tr th:only-of-type {\n",
       "        vertical-align: middle;\n",
       "    }\n",
       "\n",
       "    .dataframe tbody tr th {\n",
       "        vertical-align: top;\n",
       "    }\n",
       "\n",
       "    .dataframe thead th {\n",
       "        text-align: right;\n",
       "    }\n",
       "</style>\n",
       "<table border=\"1\" class=\"dataframe\">\n",
       "  <thead>\n",
       "    <tr style=\"text-align: right;\">\n",
       "      <th></th>\n",
       "      <th>time</th>\n",
       "      <th>mag.hom</th>\n",
       "      <th>mag.outlier</th>\n",
       "      <th>mag.t</th>\n",
       "      <th>mag.het</th>\n",
       "      <th>mag.het.error</th>\n",
       "      <th>mag5</th>\n",
       "      <th>mag5.error</th>\n",
       "    </tr>\n",
       "  </thead>\n",
       "  <tbody>\n",
       "    <tr>\n",
       "      <th>0</th>\n",
       "      <td>0.000000</td>\n",
       "      <td>18.558944</td>\n",
       "      <td>18.530677</td>\n",
       "      <td>18.560527</td>\n",
       "      <td>18.567447</td>\n",
       "      <td>0.067345</td>\n",
       "      <td>18.546056</td>\n",
       "      <td>0.009766</td>\n",
       "    </tr>\n",
       "    <tr>\n",
       "      <th>1</th>\n",
       "      <td>0.176158</td>\n",
       "      <td>18.531178</td>\n",
       "      <td>18.551560</td>\n",
       "      <td>18.549906</td>\n",
       "      <td>18.547315</td>\n",
       "      <td>0.017149</td>\n",
       "      <td>18.542605</td>\n",
       "      <td>0.007709</td>\n",
       "    </tr>\n",
       "    <tr>\n",
       "      <th>2</th>\n",
       "      <td>0.250165</td>\n",
       "      <td>18.553669</td>\n",
       "      <td>18.468095</td>\n",
       "      <td>18.544618</td>\n",
       "      <td>18.564191</td>\n",
       "      <td>0.020600</td>\n",
       "      <td>18.536269</td>\n",
       "      <td>0.009777</td>\n",
       "    </tr>\n",
       "    <tr>\n",
       "      <th>3</th>\n",
       "      <td>1.426983</td>\n",
       "      <td>18.539475</td>\n",
       "      <td>18.537368</td>\n",
       "      <td>18.560818</td>\n",
       "      <td>18.554162</td>\n",
       "      <td>0.074339</td>\n",
       "      <td>18.545782</td>\n",
       "      <td>0.008705</td>\n",
       "    </tr>\n",
       "    <tr>\n",
       "      <th>4</th>\n",
       "      <td>1.677148</td>\n",
       "      <td>18.575442</td>\n",
       "      <td>18.790521</td>\n",
       "      <td>18.556126</td>\n",
       "      <td>18.514765</td>\n",
       "      <td>0.027469</td>\n",
       "      <td>18.553644</td>\n",
       "      <td>0.010084</td>\n",
       "    </tr>\n",
       "    <tr>\n",
       "      <th>...</th>\n",
       "      <td>...</td>\n",
       "      <td>...</td>\n",
       "      <td>...</td>\n",
       "      <td>...</td>\n",
       "      <td>...</td>\n",
       "      <td>...</td>\n",
       "      <td>...</td>\n",
       "      <td>...</td>\n",
       "    </tr>\n",
       "    <tr>\n",
       "      <th>69</th>\n",
       "      <td>10.757089</td>\n",
       "      <td>18.537689</td>\n",
       "      <td>18.571678</td>\n",
       "      <td>18.543100</td>\n",
       "      <td>18.466822</td>\n",
       "      <td>0.045315</td>\n",
       "      <td>18.584009</td>\n",
       "      <td>0.013740</td>\n",
       "    </tr>\n",
       "    <tr>\n",
       "      <th>70</th>\n",
       "      <td>10.933247</td>\n",
       "      <td>18.553604</td>\n",
       "      <td>18.554656</td>\n",
       "      <td>18.534926</td>\n",
       "      <td>18.630141</td>\n",
       "      <td>0.072181</td>\n",
       "      <td>18.564123</td>\n",
       "      <td>0.005873</td>\n",
       "    </tr>\n",
       "    <tr>\n",
       "      <th>71</th>\n",
       "      <td>11.007254</td>\n",
       "      <td>18.547965</td>\n",
       "      <td>18.553508</td>\n",
       "      <td>18.542977</td>\n",
       "      <td>18.568285</td>\n",
       "      <td>0.087981</td>\n",
       "      <td>18.566357</td>\n",
       "      <td>0.009845</td>\n",
       "    </tr>\n",
       "    <tr>\n",
       "      <th>72</th>\n",
       "      <td>11.507584</td>\n",
       "      <td>18.558160</td>\n",
       "      <td>18.558386</td>\n",
       "      <td>18.548952</td>\n",
       "      <td>18.462255</td>\n",
       "      <td>0.087348</td>\n",
       "      <td>18.581563</td>\n",
       "      <td>0.003851</td>\n",
       "    </tr>\n",
       "    <tr>\n",
       "      <th>73</th>\n",
       "      <td>11.757748</td>\n",
       "      <td>18.546884</td>\n",
       "      <td>18.518463</td>\n",
       "      <td>18.539153</td>\n",
       "      <td>18.585988</td>\n",
       "      <td>0.043656</td>\n",
       "      <td>18.576360</td>\n",
       "      <td>0.003256</td>\n",
       "    </tr>\n",
       "  </tbody>\n",
       "</table>\n",
       "<p>74 rows × 8 columns</p>\n",
       "</div>"
      ],
      "text/plain": [
       "         time    mag.hom  mag.outlier      mag.t    mag.het  mag.het.error  \\\n",
       "0    0.000000  18.558944    18.530677  18.560527  18.567447       0.067345   \n",
       "1    0.176158  18.531178    18.551560  18.549906  18.547315       0.017149   \n",
       "2    0.250165  18.553669    18.468095  18.544618  18.564191       0.020600   \n",
       "3    1.426983  18.539475    18.537368  18.560818  18.554162       0.074339   \n",
       "4    1.677148  18.575442    18.790521  18.556126  18.514765       0.027469   \n",
       "..        ...        ...          ...        ...        ...            ...   \n",
       "69  10.757089  18.537689    18.571678  18.543100  18.466822       0.045315   \n",
       "70  10.933247  18.553604    18.554656  18.534926  18.630141       0.072181   \n",
       "71  11.007254  18.547965    18.553508  18.542977  18.568285       0.087981   \n",
       "72  11.507584  18.558160    18.558386  18.548952  18.462255       0.087348   \n",
       "73  11.757748  18.546884    18.518463  18.539153  18.585988       0.043656   \n",
       "\n",
       "         mag5  mag5.error  \n",
       "0   18.546056    0.009766  \n",
       "1   18.542605    0.007709  \n",
       "2   18.536269    0.009777  \n",
       "3   18.545782    0.008705  \n",
       "4   18.553644    0.010084  \n",
       "..        ...         ...  \n",
       "69  18.584009    0.013740  \n",
       "70  18.564123    0.005873  \n",
       "71  18.566357    0.009845  \n",
       "72  18.581563    0.003851  \n",
       "73  18.576360    0.003256  \n",
       "\n",
       "[74 rows x 8 columns]"
      ]
     },
     "execution_count": 3,
     "metadata": {},
     "output_type": "execute_result"
    }
   ],
   "source": [
    "data"
   ]
  },
  {
   "cell_type": "code",
   "execution_count": 4,
   "metadata": {},
   "outputs": [
    {
     "data": {
      "text/plain": [
       "Index(['time', 'mag.hom', 'mag.outlier', 'mag.t', 'mag.het', 'mag.het.error',\n",
       "       'mag5', 'mag5.error'],\n",
       "      dtype='object')"
      ]
     },
     "execution_count": 4,
     "metadata": {},
     "output_type": "execute_result"
    }
   ],
   "source": [
    "data.keys()"
   ]
  },
  {
   "cell_type": "code",
   "execution_count": 5,
   "metadata": {},
   "outputs": [
    {
     "data": {
      "text/plain": [
       "0     18.530677\n",
       "1     18.551560\n",
       "2     18.468095\n",
       "3     18.537368\n",
       "4     18.790521\n",
       "        ...    \n",
       "69    18.571678\n",
       "70    18.554656\n",
       "71    18.553508\n",
       "72    18.558386\n",
       "73    18.518463\n",
       "Name: mag.outlier, Length: 74, dtype: float64"
      ]
     },
     "execution_count": 5,
     "metadata": {},
     "output_type": "execute_result"
    }
   ],
   "source": [
    "data['mag.outlier']"
   ]
  },
  {
   "cell_type": "code",
   "execution_count": 6,
   "metadata": {},
   "outputs": [],
   "source": [
    "import numpy as np\n",
    "mag_outlier = np.array(data['mag.outlier'])"
   ]
  },
  {
   "cell_type": "code",
   "execution_count": 7,
   "metadata": {},
   "outputs": [
    {
     "data": {
      "text/plain": [
       "array([18.53067741, 18.55156043, 18.46809544, 18.53736824, 18.79052101,\n",
       "       18.5484733 , 18.57389487, 18.58385375, 18.55051367, 18.55627943,\n",
       "       18.55570376, 18.55495439, 18.54837424, 18.54155049, 18.54333728,\n",
       "       18.53924894, 18.77060703, 18.56263718, 18.52214174, 18.56785208,\n",
       "       19.05058968, 18.55695516, 18.5586264 , 18.5662732 , 18.54577395,\n",
       "       18.54960564, 18.53814685, 18.53747636, 18.50675539, 18.57006176,\n",
       "       18.57850418, 18.51872247, 18.55245687, 18.55933597, 18.5531114 ,\n",
       "       18.57421901, 18.57754636, 18.56309729, 18.55914489, 18.52396585,\n",
       "       18.55902283, 18.56014149, 18.5565164 , 18.51997416, 18.55759143,\n",
       "       18.56565219, 18.51953343, 18.56716842, 18.5112243 , 18.52635593,\n",
       "       18.55538613, 18.54720653, 18.54499055, 18.54707486, 18.55391538,\n",
       "       18.52823706, 18.53023576, 18.57273861, 18.55503703, 18.53444977,\n",
       "       18.56384012, 18.52966415, 18.56417305, 18.53060676, 18.55450872,\n",
       "       18.52899907, 18.54325478, 18.53198869, 18.56591053, 18.57167751,\n",
       "       18.5546561 , 18.55350843, 18.55838631, 18.5184627 ])"
      ]
     },
     "execution_count": 7,
     "metadata": {},
     "output_type": "execute_result"
    }
   ],
   "source": [
    "mag_outlier"
   ]
  },
  {
   "cell_type": "code",
   "execution_count": 33,
   "metadata": {},
   "outputs": [
    {
     "name": "stdout",
     "output_type": "stream",
     "text": [
      "18.561082466856572\n",
      "0.005081094393001044\n"
     ]
    }
   ],
   "source": [
    "Mean = np.mean(mag_outlier)\n",
    "Sigma = np.var(mag_outlier)\n",
    "print(Mean)\n",
    "print(Sigma)"
   ]
  },
  {
   "cell_type": "code",
   "execution_count": 9,
   "metadata": {},
   "outputs": [],
   "source": [
    "import statsmodels.api as sm \n",
    "import pylab as py \n",
    "import matplotlib.pyplot as plt"
   ]
  },
  {
   "cell_type": "code",
   "execution_count": 10,
   "metadata": {},
   "outputs": [
    {
     "data": {
      "image/png": "[encoded data removed]",
      "text/plain": [
       "<Figure size 432x288 with 1 Axes>"
      ]
     },
     "metadata": {
      "needs_background": "light"
     },
     "output_type": "display_data"
    }
   ],
   "source": [
    "sm.qqplot(mag_outlier, marker = '.') \n",
    "\n",
    "X = np.arange(-2, 2, 0.01)\n",
    "Y = Mean + Sigma*X\n",
    "plt.plot(X, Y)\n",
    "\n",
    "plt.show()"
   ]
  },
  {
   "cell_type": "code",
   "execution_count": 11,
   "metadata": {},
   "outputs": [
    {
     "data": {
      "text/plain": [
       "(74,)"
      ]
     },
     "execution_count": 11,
     "metadata": {},
     "output_type": "execute_result"
    }
   ],
   "source": [
    "mag_outlier.shape"
   ]
  },
  {
   "cell_type": "code",
   "execution_count": 12,
   "metadata": {},
   "outputs": [
    {
     "data": {
      "text/plain": [
       "18.5373952724961"
      ]
     },
     "execution_count": 12,
     "metadata": {},
     "output_type": "execute_result"
    }
   ],
   "source": [
    "Q1 = np.quantile(mag_outlier, 0.25)\n",
    "Q1"
   ]
  },
  {
   "cell_type": "code",
   "execution_count": 13,
   "metadata": {},
   "outputs": [
    {
     "data": {
      "text/plain": [
       "18.56298225840465"
      ]
     },
     "execution_count": 13,
     "metadata": {},
     "output_type": "execute_result"
    }
   ],
   "source": [
    "Q3 = np.quantile(mag_outlier, 0.75)\n",
    "Q3"
   ]
  },
  {
   "cell_type": "code",
   "execution_count": 14,
   "metadata": {},
   "outputs": [],
   "source": [
    "x = np.arange(-3, 3.01, 0.01)"
   ]
  },
  {
   "cell_type": "code",
   "execution_count": 17,
   "metadata": {},
   "outputs": [],
   "source": [
    "import scipy.stats as st\n",
    "from matplotlib.pyplot import *"
   ]
  },
  {
   "cell_type": "code",
   "execution_count": 18,
   "metadata": {},
   "outputs": [
    {
     "data": {
      "image/png": "[encoded data removed]",
      "text/plain": [
       "<Figure size 432x216 with 2 Axes>"
      ]
     },
     "metadata": {
      "needs_background": "light"
     },
     "output_type": "display_data"
    }
   ],
   "source": [
    "fig = figure(figsize=(6, 3))\n",
    "ax1 = fig.add_subplot(121)\n",
    "ax2 = fig.add_subplot(122)\n",
    "\n",
    "pdf = st.norm.pdf(x)\n",
    "cdf = st.norm.cdf(x)\n",
    "ax1.plot(x, pdf)\n",
    "ax2.plot(x, cdf)\n",
    "\n",
    "p = np.arange(0, 1.01, 0.01)\n",
    "\n",
    "# to get inverse of cdf use \"ppf\"\n",
    "icdf = st.norm.ppf(p)"
   ]
  },
  {
   "cell_type": "code",
   "execution_count": 19,
   "metadata": {},
   "outputs": [
    {
     "data": {
      "text/plain": [
       "<matplotlib.lines.Line2D at 0x124b6e850>"
      ]
     },
     "execution_count": 19,
     "metadata": {},
     "output_type": "execute_result"
    },
    {
     "data": {
      "image/png": "[encoded data removed]",
      "text/plain": [
       "<Figure size 432x288 with 1 Axes>"
      ]
     },
     "metadata": {
      "needs_background": "light"
     },
     "output_type": "display_data"
    }
   ],
   "source": [
    "figure()\n",
    "plot(p, icdf)\n",
    "axhline(st.norm.ppf(0.25))\n",
    "axvline(0.25)"
   ]
  },
  {
   "cell_type": "code",
   "execution_count": 20,
   "metadata": {},
   "outputs": [
    {
     "data": {
      "text/plain": [
       "-0.6744897501960817"
      ]
     },
     "execution_count": 20,
     "metadata": {},
     "output_type": "execute_result"
    }
   ],
   "source": [
    "st.norm.ppf(0.25)"
   ]
  },
  {
   "cell_type": "code",
   "execution_count": 21,
   "metadata": {},
   "outputs": [
    {
     "data": {
      "text/plain": [
       "0.6744897501960817"
      ]
     },
     "execution_count": 21,
     "metadata": {},
     "output_type": "execute_result"
    }
   ],
   "source": [
    "st.norm.ppf(0.75)"
   ]
  },
  {
   "cell_type": "code",
   "execution_count": 22,
   "metadata": {},
   "outputs": [
    {
     "data": {
      "text/plain": [
       "0.6744897501960817"
      ]
     },
     "execution_count": 22,
     "metadata": {},
     "output_type": "execute_result"
    }
   ],
   "source": [
    "x1 = st.norm.ppf(0.25)\n",
    "x3 = st.norm.ppf(0.75)\n",
    "x3"
   ]
  },
  {
   "cell_type": "code",
   "execution_count": 23,
   "metadata": {},
   "outputs": [],
   "source": [
    "# the coordinate of the 1st quantile is P1(x1,Q1)\n",
    "# the coordinate of the 1st quantile is P3(x3,Q3)\n",
    "\n",
    "P1 = [x1, Q1]\n",
    "P3 = [x3, Q3]"
   ]
  },
  {
   "cell_type": "code",
   "execution_count": 24,
   "metadata": {},
   "outputs": [
    {
     "data": {
      "image/png": "[encoded data removed]",
      "text/plain": [
       "<Figure size 432x288 with 1 Axes>"
      ]
     },
     "metadata": {
      "needs_background": "light"
     },
     "output_type": "display_data"
    }
   ],
   "source": [
    "sm.qqplot(mag_outlier, marker = '.') \n",
    "\n",
    "X = np.arange(-3, 3.01, 0.01)\n",
    "Y = Mean + Sigma*X\n",
    "plt.plot(X, Y)\n",
    "\n",
    "y = (Q3 - Q1)/(x3 - x1) * (x - x1) + Q1\n",
    "plt.plot(x,y)\n",
    "\n",
    "plt.show()"
   ]
  },
  {
   "cell_type": "markdown",
   "metadata": {},
   "source": [
    "To deal with mag.het below"
   ]
  },
  {
   "cell_type": "code",
   "execution_count": 25,
   "metadata": {},
   "outputs": [
    {
     "data": {
      "text/plain": [
       "array([18.56744724, 18.54731521, 18.56419068, 18.5541624 , 18.51476539,\n",
       "       18.5511345 , 18.54637707, 18.50968173, 18.62045483, 18.56212405,\n",
       "       18.5478436 , 18.54603615, 18.52103588, 18.55643022, 18.54581481,\n",
       "       18.41634004, 18.59560259, 18.58287343, 18.48456726, 18.52402588,\n",
       "       18.55944649, 18.53263678, 18.57224504, 18.56911423, 18.55500408,\n",
       "       18.56128636, 18.52806689, 18.6086036 , 18.48342552, 18.5562747 ,\n",
       "       18.46310897, 18.45882742, 18.54189051, 18.42744089, 18.5840574 ,\n",
       "       18.54869751, 18.57086632, 18.5157921 , 18.51103683, 18.54529733,\n",
       "       18.58886875, 18.56779579, 18.53331277, 18.51184323, 18.55178825,\n",
       "       18.57145667, 18.58207136, 18.56968089, 18.58108356, 18.49660612,\n",
       "       18.62131203, 18.59708403, 18.59031956, 18.5550137 , 18.53869323,\n",
       "       18.55523089, 18.49412813, 18.68629647, 18.55407781, 18.52094029,\n",
       "       18.53506124, 18.54911523, 18.53542691, 18.5800183 , 18.5352171 ,\n",
       "       18.62700408, 18.55241712, 18.5628622 , 18.56768699, 18.46682187,\n",
       "       18.63014092, 18.56828531, 18.46225466, 18.58598815])"
      ]
     },
     "execution_count": 25,
     "metadata": {},
     "output_type": "execute_result"
    }
   ],
   "source": [
    "data['mag.het']\n",
    "mag_het = np.array(data['mag.het'])\n",
    "mag_het"
   ]
  },
  {
   "cell_type": "code",
   "execution_count": 34,
   "metadata": {},
   "outputs": [
    {
     "name": "stdout",
     "output_type": "stream",
     "text": [
      "18.54834115592681\n",
      "0.002051771742037422\n"
     ]
    },
    {
     "data": {
      "image/png": "[encoded data removed]",
      "text/plain": [
       "<Figure size 432x288 with 1 Axes>"
      ]
     },
     "metadata": {
      "needs_background": "light"
     },
     "output_type": "display_data"
    }
   ],
   "source": [
    "Mean_het = np.mean(mag_het)\n",
    "Sigma_het = np.var(mag_het)\n",
    "\n",
    "print(Mean_het)\n",
    "print(Sigma_het)\n",
    "\n",
    "sm.qqplot(mag_het, marker = '.') \n",
    "\n",
    "X_het = np.arange(-3, 3.01, 0.01)\n",
    "Y_het = Mean_het + Sigma_het*X\n",
    "plt.plot(X_het, Y_het)\n",
    "\n",
    "plt.show()"
   ]
  },
  {
   "cell_type": "code",
   "execution_count": 28,
   "metadata": {},
   "outputs": [],
   "source": [
    "Q1_het = np.quantile(mag_het, 0.25)\n",
    "Q3_het = np.quantile(mag_het, 0.75)\n",
    "\n",
    "x1_het = st.norm.ppf(0.25)\n",
    "x3_het = st.norm.ppf(0.75)"
   ]
  },
  {
   "cell_type": "code",
   "execution_count": 29,
   "metadata": {},
   "outputs": [
    {
     "data": {
      "image/png": "[encoded data removed]",
      "text/plain": [
       "<Figure size 432x288 with 1 Axes>"
      ]
     },
     "metadata": {
      "needs_background": "light"
     },
     "output_type": "display_data"
    }
   ],
   "source": [
    "# the coordinate of the 1st quantile is P1_het(x1_het,Q1_het)\n",
    "# the coordinate of the 1st quantile is P3_het(x3_het,Q3_het)\n",
    "\n",
    "P1_het = [x1_het, Q1_het]\n",
    "P3_het = [x3_het, Q3_het]\n",
    "\n",
    "sm.qqplot(mag_het, marker = '.') \n",
    "\n",
    "X_het = np.arange(-3, 3.01, 0.01)\n",
    "Y_het = Mean_het + Sigma_het*X\n",
    "plt.plot(X_het, Y_het)\n",
    "\n",
    "y = (Q3_het - Q1_het)/(x3_het - x1_het) * (x - x1_het) + Q1_het\n",
    "plt.plot(x,y)\n",
    "\n",
    "plt.show()"
   ]
  },
  {
   "cell_type": "code",
   "execution_count": 35,
   "metadata": {},
   "outputs": [
    {
     "data": {
      "text/plain": [
       "(74,)"
      ]
     },
     "execution_count": 35,
     "metadata": {},
     "output_type": "execute_result"
    }
   ],
   "source": [
    "mag_het.shape"
   ]
  },
  {
   "cell_type": "code",
   "execution_count": 36,
   "metadata": {},
   "outputs": [
    {
     "data": {
      "text/plain": [
       "array([[ 0.28370558, -0.05982671,  0.76937907,  0.078307  , -1.22231636,\n",
       "         2.18178322, -0.05090111, -1.24015771,  2.3902915 ,  1.67055388,\n",
       "        -0.00980345, -0.02846275, -0.29209572,  0.66623933, -0.19643021,\n",
       "        -1.4775252 ,  0.77726758,  0.63048683, -0.76915934, -0.57455631,\n",
       "         0.14379444, -0.55984544,  0.30336506,  1.6529738 ,  0.15666077,\n",
       "         0.18438828, -0.86702484,  1.16166967, -1.0592497 ,  0.08160363,\n",
       "        -0.91862462, -1.25913408, -0.13754099, -1.85076254,  1.11366889,\n",
       "         0.00460168,  0.24469162, -0.59293061, -0.43462034, -0.03704152,\n",
       "         0.43949241,  0.35449859, -0.1957191 , -0.88016976,  1.61621622,\n",
       "         0.50568682,  1.00138292,  0.3461175 ,  0.47817855, -1.43232226,\n",
       "         0.74059951,  1.06365075,  0.61845141,  1.03428235, -0.45271831,\n",
       "         0.50847198, -0.6123332 ,  1.69723036,  0.10867765, -1.17438753,\n",
       "        -0.18881922,  0.26236299, -0.56667057,  0.42889477, -0.52451403,\n",
       "         1.23080828,  0.10037595,  1.24987937,  0.44224907, -1.79895709,\n",
       "         1.13325749,  0.22668645, -0.98555869,  0.86234728]])"
      ]
     },
     "execution_count": 36,
     "metadata": {},
     "output_type": "execute_result"
    }
   ],
   "source": [
    "# if rescale the data:\n",
    "data['mag.het.error']\n",
    "mag_het_error = np.array(data['mag.het.error'])\n",
    "a = np.ones((1, 74))\n",
    "new_data = (mag_het - Mean_het * a) / mag_het_error\n",
    "new_data"
   ]
  },
  {
   "cell_type": "code",
   "execution_count": 37,
   "metadata": {},
   "outputs": [
    {
     "name": "stdout",
     "output_type": "stream",
     "text": [
      "0.11479798948895799\n",
      "0.8235457747487397\n"
     ]
    },
    {
     "data": {
      "image/png": "[encoded data removed]",
      "text/plain": [
       "<Figure size 432x288 with 1 Axes>"
      ]
     },
     "metadata": {
      "needs_background": "light"
     },
     "output_type": "display_data"
    }
   ],
   "source": [
    "Mean_new = np.mean(new_data)\n",
    "Sigma_new = np.var(new_data)\n",
    "\n",
    "print(Mean_new)\n",
    "print(Sigma_new)\n",
    "\n",
    "sm.qqplot(new_data, marker = '.') \n",
    "\n",
    "X_new = np.arange(-3, 3.01, 0.01)\n",
    "Y_new = Mean_new + Sigma_new*X\n",
    "plt.plot(X_new, Y_new)\n",
    "\n",
    "plt.show()"
   ]
  },
  {
   "cell_type": "code",
   "execution_count": 38,
   "metadata": {},
   "outputs": [],
   "source": [
    "Q1_new = np.quantile(new_data, 0.25)\n",
    "Q3_new = np.quantile(new_data, 0.75)\n",
    "\n",
    "x1_new = st.norm.ppf(0.25)\n",
    "x3_new = st.norm.ppf(0.75)"
   ]
  },
  {
   "cell_type": "code",
   "execution_count": 39,
   "metadata": {},
   "outputs": [
    {
     "data": {
      "image/png": "[encoded data removed]",
      "text/plain": [
       "<Figure size 432x288 with 1 Axes>"
      ]
     },
     "metadata": {
      "needs_background": "light"
     },
     "output_type": "display_data"
    }
   ],
   "source": [
    "# the coordinate of the 1st quantile is P1_new(x1_new,Q1_new)\n",
    "# the coordinate of the 1st quantile is P3_new(x3_new,Q3_new)\n",
    "\n",
    "P1_new = [x1_new, Q1_new]\n",
    "P3_new = [x3_new, Q3_new]\n",
    "\n",
    "sm.qqplot(new_data, marker = '.') \n",
    "\n",
    "X_new = np.arange(-3, 3.01, 0.01)\n",
    "Y_new = Mean_new + Sigma_new*X\n",
    "plt.plot(X_new, Y_new)\n",
    "\n",
    "y = (Q3_new - Q1_new)/(x3_new - x1_new) * (x - x1_new) + Q1_new\n",
    "plt.plot(x,y)\n",
    "\n",
    "plt.show()"
   ]
  },
  {
   "cell_type": "code",
   "execution_count": null,
   "metadata": {},
   "outputs": [],
   "source": []
  }
 ],
 "metadata": {
  "kernelspec": {
   "display_name": "Python [conda env:root] *",
   "language": "python",
   "name": "conda-root-py"
  },
  "language_info": {
   "codemirror_mode": {
    "name": "ipython",
    "version": 3
   },
   "file_extension": ".py",
   "mimetype": "text/x-python",
   "name": "python",
   "nbconvert_exporter": "python",
   "pygments_lexer": "ipython3",
   "version": "3.7.4"
  }
 },
 "nbformat": 4,
 "nbformat_minor": 4
}
