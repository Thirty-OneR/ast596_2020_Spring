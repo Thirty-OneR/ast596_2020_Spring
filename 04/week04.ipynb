{
 "cells": [
  {
   "cell_type": "code",
   "execution_count": 1,
   "metadata": {
    "slideshow": {
     "slide_type": "skip"
    }
   },
   "outputs": [
    {
     "data": {
      "text/plain": [
       "{'width': 1920, 'height': 1080, 'scroll': True}"
      ]
     },
     "execution_count": 1,
     "metadata": {},
     "output_type": "execute_result"
    }
   ],
   "source": [
    "from notebook.services.config import ConfigManager\n",
    "cm = ConfigManager()\n",
    "cm.update('livereveal', {\n",
    "        'width': 1920,\n",
    "        'height': 1080,\n",
    "        'scroll': True,\n",
    "})"
   ]
  },
  {
   "cell_type": "markdown",
   "metadata": {
    "slideshow": {
     "slide_type": "slide"
    }
   },
   "source": [
    "# Week 04, ASTR 596: Fundamentals of Data Science\n",
    "\n",
    "\n",
    "## MLE to Bayes, contd.\n",
    "\n",
    "### Gautham Narayan \n",
    "##### <gsn@illinois.edu>\n",
    "\n"
   ]
  },
  {
   "cell_type": "markdown",
   "metadata": {
    "slideshow": {
     "slide_type": "slide"
    }
   },
   "source": [
    "# <center> Review of HW 2 </center>"
   ]
  },
  {
   "cell_type": "markdown",
   "metadata": {
    "slideshow": {
     "slide_type": "slide"
    }
   },
   "source": [
    "# Recap \n",
    "\n",
    "\n",
    "You should be able to:\n",
    "\n",
    "* use MLE to estimate parameters of a model\n",
    "    * analytically, in the case of nice likelihood functions\n",
    "    * numerically (on a grid or using an optimizer)"
   ]
  },
  {
   "cell_type": "markdown",
   "metadata": {
    "slideshow": {
     "slide_type": "subslide"
    }
   },
   "source": [
    "# Recap\n",
    "\n",
    "* recognize that the **likelihood function** is central to both Frequentist and Bayesian frameworks\n",
    "    * but is *not* the same as the **posterior** \n",
    "    * in particular, the likelihood function is not the PDF for the parameters: \n",
    "    * probability of observing the data, given different values of the parameters $P(D|\\theta)$\n",
    "        * if you draw a 1-$\\sigma$ contour around the MLE estimate and repeat the experiment over and over, 68% of the data should contain the true value - **Confidence Interval**\n",
    "        * i.e. you have to imagine repeat experiments that haven't actually been done\n",
    "    * in the frequentist view, the true parameters are fixed and *unknown*, but not *random*\n",
    "    * and data are (random) realizations of random variables"
   ]
  },
  {
   "cell_type": "markdown",
   "metadata": {
    "slideshow": {
     "slide_type": "subslide"
    }
   },
   "source": [
    "# Recap\n",
    "\n",
    "* In the Bayesian view, both parameters are data are random variables\n",
    "    * data are random variables with realizations you've observed\n",
    "    * parameters are random variables that you've not observed\n",
    "* They are described by a joint distribution, $P(D,\\theta) = P(D|\\theta)\\cdot P(\\theta)$ \n",
    "    "
   ]
  },
  {
   "cell_type": "markdown",
   "metadata": {
    "slideshow": {
     "slide_type": "subslide"
    }
   },
   "source": [
    "# Recap\n",
    "\n",
    "* what we want is the probability of the parameters, given the data we observed\n",
    "    * what distribution of parameters can describe these observations $P(\\theta|D)$\n",
    "    * Bayes' rule relates $P(\\theta|D)$ and $P(D|\\theta)$\n",
    "* the big difference between the two is the **prior**\n",
    "    * the probability of the parameters *without* any data\n",
    "    * **this is a subjective choice which we get to make!**\n",
    "    * it is your degree of belief in the model\n",
    "    * the posterior is your degree of belief in the model, updated by the data you observed"
   ]
  },
  {
   "cell_type": "markdown",
   "metadata": {
    "slideshow": {
     "slide_type": "subslide"
    }
   },
   "source": [
    "# Recap\n",
    "* We want to pick our prior to be \"weak\" or \"uninformative\"\n",
    "    * In the case of \"big\" enough data, the prior shouldn't matter\n",
    "    * It is precisely when we do not have big enough data that we rely on the prior      \n",
    "* MLE is a special case of maximum a posteriori inference with a uniform/flat prior"
   ]
  },
  {
   "cell_type": "markdown",
   "metadata": {
    "slideshow": {
     "slide_type": "slide"
    }
   },
   "source": [
    "# Quick note, since some of you computed contours on HW2:\n",
    "\n",
    "## Confidence intervals from $\\chi^2$ distributions\n",
    "\n",
    "* For example: in 1D, the 68.3% confidence region is bounded by the contour at $\\chi^2_{\\rm min} + \\Delta \\chi^2_{D}$ where $\\Delta \\chi^2_{D} = 1$ in 1D, and $\\Delta \\chi^2_{D} = 2.30$ in 2D. \n",
    "\n",
    "* In the 1D case, the boundary of the 68.3% confidence interval lies 1 standard deviation (or \"1-sigma\") from the mean, while the 95.4% CI lies 2-sigma from the mean.\n",
    "\n",
    "> Remember, general, $\\Delta \\chi^2_{D}$ can be computed from the $\\chi^2$ distribution quantile (or \"percentage point\") function, e.g.  `scipy.stats.chi2.ppf(0.683, D)`\n",
    "\n",
    "* The $\\chi^2$ function can be computed on a grid, and visualized as a contour plot: the contour at $\\chi^2_{\\rm min} + 2.30$ will enclose the 68% 2-D confidence region. **Not +1.0 in 2-D.**"
   ]
  },
  {
   "cell_type": "code",
   "execution_count": 2,
   "metadata": {},
   "outputs": [
    {
     "data": {
      "text/plain": [
       "2.3"
      ]
     },
     "execution_count": 2,
     "metadata": {},
     "output_type": "execute_result"
    }
   ],
   "source": [
    "import numpy as np\n",
    "import scipy.stats as st\n",
    "\n",
    "\n",
    "dimensions = 2\n",
    "level = 0.683\n",
    "dchisq = st.chi2.ppf(level, dimensions)\n",
    "\n",
    "np.round(dchisq,2)"
   ]
  },
  {
   "cell_type": "markdown",
   "metadata": {
    "slideshow": {
     "slide_type": "slide"
    }
   },
   "source": [
    "## Approximate uncertainties\n",
    "\n",
    "* In general, the covariance matrix of a Gaussian approximation to the likelihood can be calculated by _taking second derivatives of the log likelihood at the peak_, and inverting the resulting *Hessian matrix/ negative Fisher Information Matrix*\n",
    "\n",
    "* This gives a lower limit to the covariance of a set of estimators: \n",
    "\n",
    "## $\\;\\;\\;\\;\\;V^{-1}_{ij} \\geq -\\frac{\\partial^2 \\log{L}}{\\partial\\theta_i\\partial\\theta_j} \\biggr|_{\\boldsymbol{\\hat{\\theta}}}$\n",
    "\n",
    "> $V$ is what [`scipy.optimize.minimize`](https://docs.scipy.org/doc/scipy-0.18.1/reference/generated/scipy.optimize.minimize.html) returns in its `hess_inv` field if you pass it the negative log likelihood.\n",
    "\n",
    "* We've been optimizing on grids so far for pedagogical reasons - you can visualize them easily\n",
    "\n",
    "* In practice, don't actually write for loops over grids... \n",
    "    * if you justify a likelihood for your data that is a nice function, find a solution analytically\n",
    "    * if you cannot, it's much more efficient to use scipy/iminuit/MCMC methods\n",
    "    \n",
    "    "
   ]
  },
  {
   "cell_type": "markdown",
   "metadata": {
    "slideshow": {
     "slide_type": "slide"
    }
   },
   "source": [
    "# These are *confidence intervals*, **NOT** *credible regions**\n",
    "\n",
    "Let's look at the difference using a version of the HW2 problems 2 and 3:\n",
    "\n",
    "Let's assume we have some sources that are normally distributed with some mean $\\mu = -19.5$ and standard deviation, $\\sigma_{\\text{int}} = 0.15$, both of which we want to estimate.\n",
    "\n",
    "## $$ x_i \\sim N(\\mu, \\sigma_{\\text{int}}) $$\n",
    "\n",
    "\n",
    "You have to *measure* the brightness of these sources and that process is noisy, so let's also assume that the measurements have some homoscedastic (i.e. equal) measurement error, say 0.1\n",
    "\n",
    "## $$\\sigma_i = 0.1$$\n",
    "\n",
    "and \n",
    "\n",
    "## $$y_i \\sim N(x_i, \\sigma_i)$$\n",
    "\n",
    "These $x_i$ are the true brightness of each source $i$ but we don't observe them directly - these are **latent** variables."
   ]
  },
  {
   "cell_type": "code",
   "execution_count": 3,
   "metadata": {
    "slideshow": {
     "slide_type": "slide"
    }
   },
   "outputs": [
    {
     "data": {
      "image/png": "[encoded data removed]",
      "text/plain": [
       "<Figure size 1080x720 with 6 Axes>"
      ]
     },
     "metadata": {
      "needs_background": "light"
     },
     "output_type": "display_data"
    }
   ],
   "source": [
    "# RUN THIS\n",
    "\n",
    "%matplotlib inline\n",
    "import matplotlib.pyplot as plot\n",
    "from scipy.optimize import minimize\n",
    "from astropy.visualization import hist as ahist\n",
    "\n",
    "np.random.seed(42)\n",
    "\n",
    "#let's make three sample sizes\n",
    "sample_size = [20, 100, 200]\n",
    "\n",
    "fig = plt.figure(figsize=(15, 10))\n",
    "\n",
    "# we'll fix the bins to make comparison easy\n",
    "bins = np.arange(-20.0, -19.05, 0.05)\n",
    "\n",
    "# and create ad dictionary to store the samples\n",
    "samples={}\n",
    "\n",
    "mu_true = -19.5\n",
    "sig_int = 0.15\n",
    "\n",
    "for s, size in enumerate(sample_size):\n",
    "\n",
    "    ax1 = fig.add_subplot(2, 3, s+1)\n",
    "    x = st.norm.rvs(loc=mu_true, scale=sig_int, size=size)\n",
    "    \n",
    "    error = np.repeat(0.1, size)\n",
    "    \n",
    "    # this also works in the case of heteroskedastic error\n",
    "    #error =  st.uniform.rvs(loc=0.07, scale=0.2, size=size)\n",
    "\n",
    "    y = x + st.norm.rvs(loc=0, scale=error, size=size)\n",
    "    \n",
    "\n",
    "    z = st.uniform.rvs(loc=0.001, scale=0.15, size=size )\n",
    "        \n",
    "    ax1.scatter(z, x, color='C1', marker='*', label='latent (true) absolute magnitude')\n",
    "    ax1.errorbar(z, y, yerr=0.1, color='C0', marker='.', ls='None', alpha=0.5, label='observed absolute mag')\n",
    "    ax1.set_xlabel('Redshift')\n",
    "    ax1.set_ylabel('Absolute Mag')\n",
    "    \n",
    "    ax2 = fig.add_subplot(2, 3, s+4)\n",
    "    \n",
    "    # calculate the sample standard deviation\n",
    "    sig_x = np.std(x)\n",
    "    sig_y = np.std(y)\n",
    "    \n",
    "    # histogram the data\n",
    "    ahist(x, color='C1', ax=ax2, bins=bins, label=f'Sample std {sig_x:.3f}')\n",
    "    ahist(y, color='C0', alpha=0.5, ax=ax2, bins=bins, label=f'Sample std {sig_y:.3f}')\n",
    "    ax2.set_ylabel(f'N={size:d}')\n",
    "    ax1.legend(frameon=False)\n",
    "    ax2.legend(frameon=False)\n",
    "    \n",
    "    samples[s] = (x, y, z, error)\n",
    "fig.tight_layout()        "
   ]
  },
  {
   "cell_type": "code",
   "execution_count": 4,
   "metadata": {
    "slideshow": {
     "slide_type": "slide"
    }
   },
   "outputs": [
    {
     "data": {
      "image/png": "[encoded data removed]",
      "text/plain": [
       "<Figure size 1080x432 with 3 Axes>"
      ]
     },
     "metadata": {
      "needs_background": "light"
     },
     "output_type": "display_data"
    }
   ],
   "source": [
    "# RUN THIS\n",
    "\n",
    "# we're going to define a grid - this should be familiar by now\n",
    "mu_grid = np.arange(-20., -18.955, 0.005)\n",
    "sig_grid = np.arange(0.05, 0.201, 0.001)\n",
    "extent= (mu_grid.min(), mu_grid.max(), sig_grid.min(), sig_grid.max())\n",
    "\n",
    "#starting guess for minimize since we want the Hessian\n",
    "guess = np.array([-19.1, 0.2])\n",
    "\n",
    "# and create a figure\n",
    "fig = plt.figure(figsize=(15, 6))\n",
    "\n",
    "# and save the results by sample size\n",
    "results = {}\n",
    "\n",
    "for s, size in enumerate(sample_size):\n",
    "    x, y, z, error = samples[s]\n",
    "    ax = fig.add_subplot(1, 3, s+1)\n",
    "    \n",
    "    likelihood_surface = np.zeros((mu_grid.shape[0], sig_grid.shape[0]))\n",
    "    \n",
    "    def negLogLike(theta):\n",
    "        mu, sigma = theta\n",
    "        if sigma <= 0.03 or sigma >= 0.3:\n",
    "             return np.inf\n",
    "            \n",
    "        sig_total = np.sqrt(sigma**2. + error**2)\n",
    "        like = st.norm.pdf(y, loc=mu, scale=sig_total)\n",
    "        return  -0.5*np.sum(np.log(like))\n",
    "    \n",
    "    for i, trial_mu in enumerate(mu_grid):\n",
    "        for j, trial_sig in enumerate(sig_grid):\n",
    "            likelihood_surface[i, j] = np.exp(-(negLogLike((trial_mu, trial_sig))))\n",
    "            \n",
    "    ax.imshow(likelihood_surface.T, cmap='Blues', extent=extent, aspect='auto', origin='lower')\n",
    "    \n",
    "    res = minimize(negLogLike, guess)\n",
    "    mle = res.x\n",
    "    err_mu = res.hess_inv[0, 0]**0.5\n",
    "    err_sig = res.hess_inv[1, 1]**0.5\n",
    "    ax.errorbar([mle[0],], [mle[1],], xerr =err_mu, yerr=err_sig, color='red', marker='o',\\\n",
    "                label='MLE + Hessian Errors')\n",
    "    ax.scatter([mu_true,], [sig_int,], color='C1', marker='*', label='Truth')\n",
    "    ax.legend(frameon=False)\n",
    "    ax.set_xlabel(r'$\\mu$')\n",
    "    ax.set_ylabel(r'$\\sigma_{\\mathrm{int}}$')\n",
    "    \n",
    "    results[s] = (mle, (err_mu, err_sig))\n",
    "fig.tight_layout()"
   ]
  },
  {
   "cell_type": "markdown",
   "metadata": {
    "slideshow": {
     "slide_type": "slide"
    }
   },
   "source": [
    "## Notice how in this case with a non-linear function where there is no analytical solution to the MLE, numerical optimization still works fine, and you get convergence as the sample size gets larger\n",
    "\n",
    "\n",
    "## Notice also that the confidence intervals don't seem to have much connection to the truth, but rather describe the likelihood surface... i.e. $P(D|\\theta)$\n",
    "\n",
    "## If you could repeat this experiment k times for different D, 68% of the the results should be in your CI."
   ]
  },
  {
   "cell_type": "markdown",
   "metadata": {
    "slideshow": {
     "slide_type": "slide"
    }
   },
   "source": [
    "\n",
    "\n",
    "\n",
    "There's plenty of Non-linear functions. For our Cepheids we wrote:\n",
    "\n",
    "## $$ m = a\\log P + b $$\n",
    "\n",
    "and we know we can write (from week 1)\n",
    "\n",
    "## $$ m - M  = 5\\log (d_L/10 \\, \\text{pc}) $$\n",
    "\n",
    "Some rearranging then: \n",
    "\n",
    "## $$ d_L = 10^{\\left(a\\log P + b -  M + 5 \\right)/5} $$\n",
    "\n",
    "and Einstein's equations give us.. \n",
    "\n",
    "## $$ d_L(z) = (1+z)\\cdot (c/H_0) \\int_{0}^{z} dz^\\prime \\; \\left( \\Omega_{\\text{M}} (1+z^\\prime)^3 + \\Omega_{\\text{DE}} (1+z^\\prime)^{3(1+w)} \\right)^{-1/2}  $$\n",
    "\n",
    "which in the nearby Universe reduces to distance scaling linearly with redshift and therefore recession velocity."
   ]
  },
  {
   "cell_type": "markdown",
   "metadata": {
    "slideshow": {
     "slide_type": "subslide"
    }
   },
   "source": [
    " # <center> We already know the prior can alter the inference we make, but just to drive home the point... </center>"
   ]
  },
  {
   "cell_type": "markdown",
   "metadata": {
    "slideshow": {
     "slide_type": "slide"
    }
   },
   "source": [
    "\n",
    "![Bayesians vs Frequentists](bayes_vs_frequentist.png)\n"
   ]
  },
  {
   "cell_type": "markdown",
   "metadata": {
    "slideshow": {
     "slide_type": "slide"
    }
   },
   "source": [
    "## Things to remember\n",
    "\n",
    "* The most important thing is to _know what you are doing_, and to _communicate that clearly to others_: both approaches involve assumptions which must be recorded and tested\n",
    "\n",
    "* The Bayesian approach provides a logical framework for combining datasets and additional information, and provides answers in terms of the probability distribution for the model parameters\n",
    "\n",
    "* The Frequentist approach provides a way of studying the model independent of additional information beyond the dataset in hand, and provides answers in terms of the probability of getting the data"
   ]
  },
  {
   "cell_type": "markdown",
   "metadata": {
    "slideshow": {
     "slide_type": "slide"
    }
   },
   "source": [
    "## Endnote\n",
    "\n",
    "* The astronomy literature contains a mixture of frequentist and Bayesian analysis, sometimes within the same paper\n",
    "\n",
    "* Frequentist estimators often make good _summary statistics_ with well understood sampling distributions: astronomical catalogs are full of them\n",
    "\n",
    "* In most of this course we follow the Bayesian approach: Bayes' Theorem gives you a framework for deriving the solution to _any_ inference problem you encounter.  Having said that, we'll keep our eyes open."
   ]
  },
  {
   "cell_type": "markdown",
   "metadata": {
    "slideshow": {
     "slide_type": "slide"
    }
   },
   "source": [
    "## In class exercise/summary: Computing the Bayesian Posterior PDF\n",
    "\n",
    "We saw the Riess et al, 2011 data on Cepehids last week.\n",
    "\n",
    "Here's how the figures for the Bayesian inference were made - starting with the functions for the log likelihood, the log prior, and the unnormalized log posterior, evaluated on a 2D $(a,b)$ parameter grid given the R11 data.\n",
    "\n",
    "This is a single worked example of covering everything in our recap."
   ]
  },
  {
   "cell_type": "code",
   "execution_count": null,
   "metadata": {},
   "outputs": [],
   "source": [
    "exec(open('cepheids.py').read())\n",
    "%matplotlib inline\n",
    "plt.rcParams['figure.figsize'] = (15.0, 8.0)\n",
    "\n",
    "data = Cepheids('../data/03/R11ceph.dat')\n",
    "\n",
    "def log_likelihood(logP, mobs, sigma, a, b):\n",
    "    return -0.5*np.sum(2*np.pi*sigma**2) - \\\n",
    "            0.5*np.sum((mobs - a*logP - b)**2/(sigma**2))\n",
    "\n",
    "def log_prior(a, b):\n",
    "\n",
    "    amin,amax = -10.0,10.0\n",
    "    bmin,bmax = 10.0,30.0\n",
    "\n",
    "    if (b > bmin)*(b < bmax):\n",
    "        value = 0.0\n",
    "# Interesting alterniative: Cauchy distribution for b, equivalent to uniform\n",
    "# in angle of orientation of line:\n",
    "#        value = np.log(1.0/(bmax-bmin)) - \\\n",
    "#                np.log(np.pi) - np.log(1 + a**2)\n",
    "    else:\n",
    "        value = -np.inf\n",
    "    \n",
    "    if (a > amin)*(a < amax):\n",
    "        value += 0.0\n",
    "    else:\n",
    "        value += -np.inf\n",
    "        \n",
    "    return value\n",
    "\n",
    "def log_posterior(logP, mobs, sigma, a, b):\n",
    "    return log_likelihood(logP,mobs,sigma,a,b) + log_prior(a,b)"
   ]
  },
  {
   "cell_type": "markdown",
   "metadata": {
    "slideshow": {
     "slide_type": "slide"
    }
   },
   "source": [
    "## Evaluating the posterior PDF\n",
    "\n",
    "Now, let's set up a suitable parameter grid, evaluate the unnormalized log posterior on it, and then renormalize it numerically."
   ]
  },
  {
   "cell_type": "code",
   "execution_count": null,
   "metadata": {},
   "outputs": [],
   "source": [
    "# Limits of parameter grids, focused on the high likelihood region:\n",
    "amin, amax = -3.4, -2.4\n",
    "bmin, bmax = 25.7, 26.8\n",
    "limits = (amin, amax, bmin, bmax)\n",
    "\n",
    "def evaluate_posterior_on_a_grid(limits, NGC_ID=4258, npix=100):\n",
    "    \n",
    "    # Make grids:\n",
    "    amin, amax, bmin, bmax = limits\n",
    "    agrid, bgrid, logprob = np.linspace(amin,amax,npix), np.linspace(bmin,bmax,npix), np.zeros([npix,npix])\n",
    "\n",
    "    # Select a Cepheid dataset:\n",
    "    data.select(NGC_ID)\n",
    "\n",
    "    # Loop over parameters, computing unnormlized log posterior PDF:\n",
    "    for i,a in enumerate(agrid):\n",
    "        for j,b in enumerate(bgrid):\n",
    "            logprob[j,i] = log_posterior(data.logP, data.mobs, data.sigma, a, b)\n",
    "\n",
    "    # Exponentiate and normalize to get posterior density:\n",
    "    prob = np.exp(logprob - np.max(logprob))\n",
    "    prob /= np.sum(prob)\n",
    "    \n",
    "    return prob, agrid, bgrid"
   ]
  },
  {
   "cell_type": "code",
   "execution_count": null,
   "metadata": {},
   "outputs": [],
   "source": [
    "%%time\n",
    "prob, a, b = evaluate_posterior_on_a_grid(limits, NGC_ID=4258, npix=100)"
   ]
  },
  {
   "cell_type": "markdown",
   "metadata": {
    "slideshow": {
     "slide_type": "slide"
    }
   },
   "source": [
    "## Visualizing the 2D PDF\n",
    "\n",
    "* Typically we want to be able to see the centroid, size and shape of the posterior PDF\n",
    "\n",
    "* In particular we want to see the _credible regions_ that enclose 68% and 95% of the posterior probability. These are best plotted as contours\n",
    "\n",
    "* Given our assumption that the model is true, the probability that the true values of the model parameters lie within the 95% credible region given the data is 0.95"
   ]
  },
  {
   "cell_type": "code",
   "execution_count": null,
   "metadata": {},
   "outputs": [],
   "source": [
    "sorted = np.sort(prob.flatten())\n",
    "C = sorted.cumsum()\n",
    "\n",
    "# Find the pixel values that lie at the levels that contain 68% and 95% of the probability:\n",
    "lvl68 = np.min(sorted[C > (1.0 - 0.68)])\n",
    "lvl95 = np.min(sorted[C > (1.0 - 0.95)])\n",
    "\n",
    "plt.figure(figsize=(10,10))\n",
    "plt.imshow(prob, origin='lower', cmap='Blues', interpolation='none', extent=limits)\n",
    "plt.contour(prob,[lvl95,lvl68],colors='black',extent=limits)\n",
    "plt.grid()\n",
    "plt.xlabel('slope a', fontsize=20)\n",
    "plt.ylabel('intercept b / AB magnitudes', fontsize=20);\n",
    "\n",
    "# plt.savefig(\"cepheids_2d-posterior.png\");"
   ]
  },
  {
   "cell_type": "markdown",
   "metadata": {
    "slideshow": {
     "slide_type": "slide"
    }
   },
   "source": [
    "## Summarizing our inferences\n",
    "\n",
    "Let's compute the 1D marginalized posterior PDFs for $a$ and for $b$, and report the median and \"68% credible interval\" (defined as the region of 1D parameter space enclosing 68% of the posterior probability)."
   ]
  },
  {
   "cell_type": "code",
   "execution_count": null,
   "metadata": {},
   "outputs": [],
   "source": [
    "prob_a_given_data = np.sum(prob, axis=0) # Approximate the integral as a sum\n",
    "prob_b_given_data = np.sum(prob, axis=1) # Approximate the integral as a sum\n",
    "\n",
    "# Check that we do have a 1D PDF:\n",
    "# print(prob_a_given_data.shape, np.sum(prob_a_given_data))\n",
    "\n",
    "plot_1d_marginalized_pdfs(a, b, prob_a_given_data, prob_b_given_data)\n",
    "\n",
    "# plt.savefig(\"cepheids_1d-posteriors.png\")\n",
    "\n",
    "print(\"a = \",compress_1D_pdf(a, prob_a_given_data, ci=68, dp=2))\n",
    "print(\"b = \",compress_1D_pdf(b, prob_b_given_data, ci=68, dp=2)) "
   ]
  },
  {
   "cell_type": "markdown",
   "metadata": {
    "slideshow": {
     "slide_type": "slide"
    }
   },
   "source": [
    "## Post-inference model checking\n",
    "\n",
    "\n",
    "Are these inferred parameters sensible? "
   ]
  },
  {
   "cell_type": "code",
   "execution_count": null,
   "metadata": {},
   "outputs": [],
   "source": [
    "data.plot(4258)\n",
    "\n",
    "data.overlay_straight_line_with(a=-2.95, b=26.25, label='Model')\n",
    "\n",
    "data.add_legend()\n",
    "\n",
    "# plt.savefig(\"cepheids_posterior-median-check.png\")"
   ]
  },
  {
   "cell_type": "markdown",
   "metadata": {
    "slideshow": {
     "slide_type": "slide"
    }
   },
   "source": [
    "## Appendix: Finding the Maximum likelihood parameters\n",
    "\n",
    "Here's the code to find the maximum likelihood parameters in the Cepheid problem."
   ]
  },
  {
   "cell_type": "code",
   "execution_count": null,
   "metadata": {
    "slideshow": {
     "slide_type": "-"
    }
   },
   "outputs": [],
   "source": [
    "exec(open('cepheids.py').read())\n",
    "%matplotlib inline\n",
    "plt.rcParams['figure.figsize'] = (15.0, 8.0)\n",
    "\n",
    "data = Cepheids('../data/03/R11ceph.dat')"
   ]
  },
  {
   "cell_type": "code",
   "execution_count": null,
   "metadata": {},
   "outputs": [],
   "source": [
    "data.select(4258)\n",
    "M, v = data.sufficient_statistics()\n",
    "a, b = np.linalg.solve(M, v)\n",
    "print('$ \\hat{a} = %.2f $' % np.round(a, 2))\n",
    "print('$ \\hat{b} = %.2f $' % np.round(b, 2))"
   ]
  },
  {
   "cell_type": "code",
   "execution_count": null,
   "metadata": {
    "slideshow": {
     "slide_type": "slide"
    }
   },
   "outputs": [],
   "source": [
    "data.plot(4258)\n",
    "\n",
    "data.overlay_straight_line_with(a=a, b=b, label='Maximum Likelihood fit')\n",
    "\n",
    "data.add_legend()"
   ]
  },
  {
   "cell_type": "markdown",
   "metadata": {
    "slideshow": {
     "slide_type": "slide"
    }
   },
   "source": [
    "## The covariance of MLEs\n",
    "\n",
    "Here's code to compute the inverse Hessian of the log likelihood, and hence a lower limit on the covariance of the ML estimators. \n",
    "\n",
    "The diagonal elements of the covariance matrix give an approximate symmetrical error bar."
   ]
  },
  {
   "cell_type": "code",
   "execution_count": null,
   "metadata": {
    "slideshow": {
     "slide_type": "-"
    }
   },
   "outputs": [],
   "source": [
    "# Generalized maximum likelihood approach:\n",
    "\n",
    "import scipy.optimize\n",
    "\n",
    "pars = np.array([0.0, 20])\n",
    "result = scipy.optimize.minimize(data.negative_log_likelihood, pars, method='BFGS', tol=0.001)\n",
    "\n",
    "print(result)"
   ]
  },
  {
   "cell_type": "code",
   "execution_count": null,
   "metadata": {},
   "outputs": [],
   "source": [
    "C = result.hess_inv\n",
    "np.sqrt(C[0,0]), np.sqrt(C[1,1])"
   ]
  },
  {
   "cell_type": "markdown",
   "metadata": {
    "slideshow": {
     "slide_type": "slide"
    }
   },
   "source": [
    "## In class exercise: Was the choice of a uniform prior actually uninformative?\n",
    "\n",
    "* Draw a 1000 random values for a slope from a uniform distribution U(-10, 10)\n",
    "* Plot the line y = ax "
   ]
  },
  {
   "cell_type": "code",
   "execution_count": null,
   "metadata": {
    "slideshow": {
     "slide_type": "slide"
    }
   },
   "outputs": [],
   "source": [
    "# YOUR CODE HERE"
   ]
  },
  {
   "cell_type": "markdown",
   "metadata": {
    "slideshow": {
     "slide_type": "slide"
    }
   },
   "source": [
    "## How to pick a prior \n",
    "\n",
    "### Bayesian priors\n",
    "\n",
    "Priors can be **informative** or **uninformative**.  As it sounds, informative priors are based on existing information (including previously obtained data, but not the data considered right now) that might be available.  Uniformative priors can be thought of as \"default\" priors, i.e., what your prior is when you never used\n",
    "any data, e.g, a \"flat\" prior like $p(\\theta|M,I) \\propto {\\rm C}$.\n",
    "\n",
    "Detailed discussion can be found in Section 5.2 in the textbook. "
   ]
  },
  {
   "cell_type": "markdown",
   "metadata": {
    "slideshow": {
     "slide_type": "slide"
    }
   },
   "source": [
    "There are three main principles used to choose a prior: \n",
    "\n",
    "\n",
    "#### 1. The Principle of Indifference\n",
    "\n",
    "Essentially this means adopting a uniform prior, though you have to be a bit careful.  Saying that an asteroid is equally likely to hit anywhere on the Earth is not the same as saying that all latitudes of impact are equally likely.  \n",
    "\n",
    "Assuming $1/6$ for a six-side die, or 1/2 for heads and tails of a fair coin, would be an example of indifference."
   ]
  },
  {
   "cell_type": "markdown",
   "metadata": {
    "slideshow": {
     "slide_type": "slide"
    }
   },
   "source": [
    "#### 2. The Principle of Invariance (or Consistency)\n",
    "\n",
    "This applies to location and scale invariance.  \n",
    "\n",
    "**Location invariance** suggests a uniform prior, within the accepted bounds: $p(\\theta|I) \\propto 1/(\\theta_{max}-\\theta_{min})$ for $\\theta_{min} \\le \\theta \\le \\theta_{max}$. \n",
    "\n",
    "BE CAREFUL - the probability of an asteroid hitting anywhere on Earth might be equal, but that does not mean it is uniform as a function of latitude! http://articles.adsabs.harvard.edu//full/1964Metic...2..271H/0000274.000.html\n",
    "\n",
    "**Scale invariance** gives us priors that look like $p(\\theta|I) \\propto 1/\\theta$, which implies a uniform\n",
    "prior for ln($\\theta$). "
   ]
  },
  {
   "cell_type": "markdown",
   "metadata": {
    "slideshow": {
     "slide_type": "slide"
    }
   },
   "source": [
    "#### 3. The Principle of Maximum Entropy\n",
    "\n",
    "We will not discuss it here - for more details, see Section 5.2.2 in the textbook.\n",
    " \n",
    "It is often true that Bayesian analysis and traditional MLE are essentially equivalent.  \n",
    "However, in some cases, considering the priors can have significant consequences, as\n",
    "we will see later. \n",
    "\n",
    "We will skip examples of very steep priors and their consequences called in astronomy\n",
    "literature **Eddington-Malmquist** and **Lutz-Kelker** biases (see Chapter 5 in the textbook\n",
    "if you are interested). "
   ]
  },
  {
   "cell_type": "markdown",
   "metadata": {
    "slideshow": {
     "slide_type": "slide"
    }
   },
   "source": [
    "## Statistical Modeling \"Wisdom\"\n",
    "\n",
    "* Build a model for your data (ideally draw a PGM - we'll see more of these)\n",
    "\n",
    "* Have an objective function (likelihood or posterior) that you optimize (or sample) to fit the the data\n",
    "\n",
    "    * The objective function evaluates the fit of your one dataset under different parameter values/models\n",
    " \n",
    "* Derive your objective function from modeling assumptions (physical or statistical)\n",
    "\n",
    "* **Write down your assumptions!!!** (you'll need these when things go wrong)"
   ]
  },
  {
   "cell_type": "markdown",
   "metadata": {
    "slideshow": {
     "slide_type": "slide"
    }
   },
   "source": [
    "## Statistical Modeling \"Wisdom\"\n",
    "\n",
    "Four Questions for a Bayesian:\n",
    "\n",
    "* What is the model?\n",
    "\n",
    "* What is the likelihood? Derive $L(\\theta)$ from your sampling distribution $P(D|\\theta)$\n",
    "\n",
    "* What are your priors $P(\\theta)$?\n",
    "\n",
    "* How do you optimize/sample this objective function to model the data?"
   ]
  },
  {
   "cell_type": "code",
   "execution_count": null,
   "metadata": {},
   "outputs": [],
   "source": [
    "# bootstrap\n",
    "## priors to deal with selection effects - truncated data\n",
    "## conjugate priors"
   ]
  }
 ],
 "metadata": {
  "anaconda-cloud": {},
  "celltoolbar": "Slideshow",
  "kernelspec": {
   "display_name": "Python 3",
   "language": "python",
   "name": "python3"
  },
  "language_info": {
   "codemirror_mode": {
    "name": "ipython",
    "version": 3
   },
   "file_extension": ".py",
   "mimetype": "text/x-python",
   "name": "python",
   "nbconvert_exporter": "python",
   "pygments_lexer": "ipython3",
   "version": "3.7.6"
  },
  "livereveal": {
   "scroll": true,
   "start_slideshow_at": "selected"
  }
 },
 "nbformat": 4,
 "nbformat_minor": 1
}
